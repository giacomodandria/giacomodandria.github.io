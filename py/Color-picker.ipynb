{
 "cells": [
  {
   "cell_type": "code",
   "execution_count": null,
   "id": "0be329b4",
   "metadata": {},
   "outputs": [],
   "source": [
    "from color_harmonies import Color, complementaryColor, triadicColor, splitComplementaryColor, tetradicColor, analogousColor, monochromaticColor\n",
    "from PIL import Image, ImageDraw, ImageFont\n",
    "import numpy as np\n",
    "from IPython.display import display, HTML"
   ]
  },
  {
   "cell_type": "code",
   "execution_count": null,
   "id": "94065c17",
   "metadata": {},
   "outputs": [],
   "source": [
    "def hex_to_rgb(value):\n",
    "    \"\"\"Return (red, green, blue) for the color given as #rrggbb.\"\"\"\n",
    "    value = value.lstrip('#')\n",
    "    lv = len(value)\n",
    "    return tuple(int(value[i:i + lv // 3], 16) for i in range(0, lv, lv // 3))"
   ]
  },
  {
   "cell_type": "code",
   "execution_count": null,
   "id": "7e2ecd1b",
   "metadata": {},
   "outputs": [],
   "source": [
    "def rgb_to_hex(red, green, blue):\n",
    "    \"\"\"Return color as #rrggbb for the given color values.\"\"\"\n",
    "    return '#%02x%02x%02x' % (red, green, blue)"
   ]
  },
  {
   "cell_type": "code",
   "execution_count": null,
   "id": "8a8471fa",
   "metadata": {},
   "outputs": [],
   "source": [
    "def create_image(size, bgColor, message, font=ImageFont.truetype('OpenSans-Medium.ttf', 16), fontColor='black'):\n",
    "    \"\"\"Draws images with solid color and inputs\"\"\"\n",
    "    W, H = size\n",
    "    image = Image.new('RGB', size, bgColor)\n",
    "    draw = ImageDraw.Draw(image)\n",
    "    _, _, w, h = draw.textbbox((0, 0), message, font=font)\n",
    "    draw.text(((W-w)/2, (H-h)/2), message, font=font, fill=fontColor)\n",
    "    return image"
   ]
  },
  {
   "cell_type": "code",
   "execution_count": null,
   "id": "8cf2f797",
   "metadata": {
    "scrolled": false
   },
   "outputs": [],
   "source": [
    "def get_colors():\n",
    "    \"\"\"Get all colors needed for a website\"\"\"\n",
    "    color = input('Insert color HEX coordinates: ')\n",
    "    color_rgb = Color(hex_to_rgb(color),\"\",\"\")\n",
    "    complementary = complementaryColor(color_rgb)\n",
    "    triadic = triadicColor(color_rgb)\n",
    "    split_complementary = splitComplementaryColor(color_rgb)\n",
    "    tetradic = tetradicColor(color_rgb)\n",
    "    analogous = analogousColor(color_rgb)\n",
    "    monochromatic = monochromaticColor(color_rgb)\n",
    "\n",
    "    # Original\n",
    "    display(HTML('<h1>Original color</h1>'))\n",
    "    base_color = create_image((100, 100), color_rgb.RGB, rgb_to_hex(color_rgb.RGB[0], color_rgb.RGB[1], color_rgb.RGB[2]))\n",
    "\n",
    "    print(f'   {rgb_to_hex(color_rgb.RGB[0], color_rgb.RGB[1], color_rgb.RGB[2])}')\n",
    "    display(base_color)\n",
    "\n",
    "    # Complementary\n",
    "    display(HTML('<h1>Complementary color</h1>'))\n",
    "    img = create_image((100, 100), (complementary[0], complementary[1], complementary[2]), rgb_to_hex(complementary[0], complementary[1], complementary[2]))\n",
    "\n",
    "    print(f'   {rgb_to_hex(color_rgb.RGB[0], color_rgb.RGB[1], color_rgb.RGB[2])}      {rgb_to_hex(complementary[0], complementary[1], complementary[2])}')\n",
    "    display(Image.fromarray(np.hstack((np.array(base_color),np.array(img)))))\n",
    "\n",
    "    # Triadic\n",
    "    display(HTML('<h1>Triadic colors</h1>'))\n",
    "    img1 = create_image((100, 100), (triadic[0][0], triadic[0][1], triadic[0][2]), rgb_to_hex(triadic[0][0], triadic[0][1], triadic[0][2]))\n",
    "    img2 = create_image((100, 100), (triadic[1][0], triadic[1][1], triadic[1][2]), rgb_to_hex(triadic[1][0], triadic[1][1], triadic[1][2]))\n",
    "\n",
    "    print(f'   {rgb_to_hex(color_rgb.RGB[0], color_rgb.RGB[1], color_rgb.RGB[2])}      {rgb_to_hex(triadic[0][0], triadic[0][1], triadic[0][2])}      {rgb_to_hex(triadic[1][0], triadic[1][1], triadic[1][2])}')\n",
    "    display(Image.fromarray(np.hstack((np.array(base_color),np.array(img1),np.array(img2)))))\n",
    "\n",
    "    # Split complementary\n",
    "    display(HTML('<h1>Split complementary colors</h1>'))\n",
    "    img1 = create_image((100, 100), (split_complementary[0][0], split_complementary[0][1], split_complementary[0][2]), rgb_to_hex(split_complementary[0][0], split_complementary[0][1], split_complementary[0][2]))\n",
    "    img2 = create_image((100, 100), (split_complementary[1][0], split_complementary[1][1], split_complementary[1][2]), rgb_to_hex(split_complementary[1][0], split_complementary[1][1], split_complementary[1][2]))\n",
    "\n",
    "    print(f'   {rgb_to_hex(color_rgb.RGB[0], color_rgb.RGB[1], color_rgb.RGB[2])}      {rgb_to_hex(split_complementary[0][0], split_complementary[0][1], split_complementary[0][2])}      {rgb_to_hex(split_complementary[1][0], split_complementary[1][1], split_complementary[1][2])}')\n",
    "    display(Image.fromarray(np.hstack((np.array(base_color),np.array(img1),np.array(img2)))))\n",
    "\n",
    "    # Tetradic\n",
    "    display(HTML('<h1>Tetradic colors</h1>'))\n",
    "    img1 = create_image((100, 100), (tetradic[0][0], tetradic[0][1], tetradic[0][2]), rgb_to_hex(tetradic[0][0], tetradic[0][1], tetradic[0][2]))\n",
    "    img2 = create_image((100, 100), (tetradic[1][0], tetradic[1][1], tetradic[1][2]), rgb_to_hex(tetradic[1][0], tetradic[1][1], tetradic[1][2]))\n",
    "    img3 = create_image((100, 100), (tetradic[2][0], tetradic[2][1], tetradic[2][2]), rgb_to_hex(tetradic[2][0], tetradic[2][1], tetradic[2][2]))\n",
    "\n",
    "    print(f'   {rgb_to_hex(color_rgb.RGB[0], color_rgb.RGB[1], color_rgb.RGB[2])}      {rgb_to_hex(tetradic[0][0], tetradic[0][1], tetradic[0][2])}      {rgb_to_hex(tetradic[1][0], tetradic[1][1], tetradic[1][2])}      {rgb_to_hex(tetradic[2][0], tetradic[2][1], tetradic[2][2])}')\n",
    "    display(Image.fromarray(np.hstack((np.array(base_color),np.array(img1),np.array(img2),np.array(img3)))))\n",
    "\n",
    "    # Analogous\n",
    "    display(HTML('<h1>Analogous colors</h1>'))\n",
    "    img1 = create_image((100, 100), (analogous[0][0], analogous[0][1], analogous[0][2]), rgb_to_hex(analogous[0][0], analogous[0][1], analogous[0][2]))\n",
    "    img2 = create_image((100, 100), (analogous[1][0], analogous[1][1], analogous[1][2]), rgb_to_hex(analogous[1][0], analogous[1][1], analogous[1][2]))\n",
    "\n",
    "    print(f'   {rgb_to_hex(color_rgb.RGB[0], color_rgb.RGB[1], color_rgb.RGB[2])}      {rgb_to_hex(analogous[0][0], analogous[0][1], analogous[0][2])}      {rgb_to_hex(analogous[1][0], analogous[1][1], analogous[1][2])}')\n",
    "    display(Image.fromarray(np.hstack((np.array(base_color),np.array(img1),np.array(img2)))))\n",
    "\n",
    "    # Monochromatic\n",
    "    display(HTML('<h1>Monochromatic colors</h1>'))\n",
    "    img1 = create_image((100, 100), (monochromatic[0][0], monochromatic[0][1], monochromatic[0][2]), rgb_to_hex(monochromatic[0][0], monochromatic[0][1], monochromatic[0][2]))\n",
    "    img2 = create_image((100, 100), (monochromatic[1][0], monochromatic[1][1], monochromatic[1][2]), rgb_to_hex(monochromatic[1][0], monochromatic[1][1], monochromatic[1][2]))\n",
    "    img3 = create_image((100, 100), (monochromatic[2][0], monochromatic[2][1], monochromatic[2][2]), rgb_to_hex(monochromatic[2][0], monochromatic[2][1], monochromatic[2][2]))\n",
    "    img4 = create_image((100, 100), (monochromatic[3][0], monochromatic[3][1], monochromatic[3][2]), rgb_to_hex(monochromatic[3][0], monochromatic[3][1], monochromatic[3][2]))\n",
    "    img5 = create_image((100, 100), (monochromatic[4][0], monochromatic[4][1], monochromatic[4][2]), rgb_to_hex(monochromatic[4][0], monochromatic[4][1], monochromatic[4][2]))\n",
    "    img6 = create_image((100, 100), (monochromatic[5][0], monochromatic[5][1], monochromatic[5][2]), rgb_to_hex(monochromatic[5][0], monochromatic[5][1], monochromatic[5][2]))\n",
    "    img7 = create_image((100, 100), (monochromatic[6][0], monochromatic[6][1], monochromatic[6][2]), rgb_to_hex(monochromatic[6][0], monochromatic[6][1], monochromatic[6][2]))\n",
    "    img8 = create_image((100, 100), (monochromatic[7][0], monochromatic[7][1], monochromatic[7][2]), rgb_to_hex(monochromatic[7][0], monochromatic[7][1], monochromatic[7][2]))\n",
    "    img9 = create_image((100, 100), (monochromatic[8][0], monochromatic[8][1], monochromatic[8][2]), rgb_to_hex(monochromatic[8][0], monochromatic[8][1], monochromatic[8][2]))\n",
    "    img10 = create_image((100, 100), (monochromatic[9][0], monochromatic[9][1], monochromatic[9][2]), rgb_to_hex(monochromatic[9][0], monochromatic[9][1], monochromatic[9][2]))\n",
    "    img11 = create_image((100, 100), (monochromatic[10][0], monochromatic[10][1], monochromatic[10][2]), rgb_to_hex(monochromatic[10][0], monochromatic[10][1], monochromatic[10][2]))\n",
    "    img12 = create_image((100, 100), (monochromatic[11][0], monochromatic[11][1], monochromatic[11][2]), rgb_to_hex(monochromatic[11][0], monochromatic[11][1], monochromatic[11][2]))\n",
    "    img13 = create_image((100, 100), (monochromatic[12][0], monochromatic[12][1], monochromatic[12][2]), rgb_to_hex(monochromatic[12][0], monochromatic[12][1], monochromatic[12][2]))\n",
    "    img14 = create_image((100, 100), (monochromatic[13][0], monochromatic[13][1], monochromatic[13][2]), rgb_to_hex(monochromatic[13][0], monochromatic[13][1], monochromatic[13][2]))\n",
    "    img15 = create_image((100, 100), (monochromatic[14][0], monochromatic[14][1], monochromatic[14][2]), rgb_to_hex(monochromatic[14][0], monochromatic[14][1], monochromatic[14][2]))\n",
    "    img16 = create_image((100, 100), (monochromatic[15][0], monochromatic[15][1], monochromatic[15][2]), rgb_to_hex(monochromatic[15][0], monochromatic[15][1], monochromatic[15][2]))\n",
    "    img17 = create_image((100, 100), (monochromatic[16][0], monochromatic[16][1], monochromatic[16][2]), rgb_to_hex(monochromatic[16][0], monochromatic[16][1], monochromatic[16][2]))\n",
    "\n",
    "    for i in range(9):\n",
    "        print(f'   {rgb_to_hex(monochromatic[i][0], monochromatic[i][1], monochromatic[i][2])}   ', end = '')\n",
    "    display(Image.fromarray(np.hstack((np.array(img1),np.array(img2),np.array(img3),np.array(img4),np.array(img5),np.array(img6),np.array(img7),np.array(img8),np.array(img9)))))\n",
    "\n",
    "    for i in range(9, 17):\n",
    "        print(f'   {rgb_to_hex(monochromatic[i][0], monochromatic[i][1], monochromatic[i][2])}   ', end = '')\n",
    "    display(Image.fromarray(np.hstack((np.array(img10),np.array(img11),np.array(img12),np.array(img13),np.array(img14),np.array(img15),np.array(img16),np.array(img17)))))"
   ]
  },
  {
   "cell_type": "code",
   "execution_count": null,
   "id": "b0658e94",
   "metadata": {},
   "outputs": [],
   "source": [
    "get_colors()"
   ]
  }
 ],
 "metadata": {
  "kernelspec": {
   "display_name": "Python 3 (ipykernel)",
   "language": "python",
   "name": "python3"
  },
  "language_info": {
   "codemirror_mode": {
    "name": "ipython",
    "version": 3
   },
   "file_extension": ".py",
   "mimetype": "text/x-python",
   "name": "python",
   "nbconvert_exporter": "python",
   "pygments_lexer": "ipython3",
   "version": "3.8.8"
  }
 },
 "nbformat": 4,
 "nbformat_minor": 5
}
