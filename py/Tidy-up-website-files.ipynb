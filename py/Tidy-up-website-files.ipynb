{
 "cells": [
  {
   "cell_type": "code",
   "execution_count": 14,
   "id": "e9a41d75",
   "metadata": {},
   "outputs": [],
   "source": [
    "import os\n",
    "import shutil\n",
    "import subprocess\n",
    "from bs4 import BeautifulSoup, Comment"
   ]
  },
  {
   "cell_type": "code",
   "execution_count": 15,
   "id": "bdc983ce",
   "metadata": {},
   "outputs": [],
   "source": [
    "# rename index files to represent actual content\n",
    "html_file_names = [('index-5.html', 'about-us.html'),\n",
    "                   ('index-6.html', 'our-projects.html'),\n",
    "                   ('index-7.html', 'book-us.html'),\n",
    "                   ('', ''),\n",
    "                   ('', ''),\n",
    "                   ('', '')]"
   ]
  },
  {
   "cell_type": "code",
   "execution_count": 16,
   "id": "2e3c1804",
   "metadata": {},
   "outputs": [],
   "source": [
    "# deletes files and folders\n",
    "files = ['index1c4a.html',\n",
    "         'index-2.html',\n",
    "         'index-3.html',\n",
    "         'index-4.html',\n",
    "         'index40a0.html',\n",
    "         'index970c.html']\n",
    "\n",
    "folders = ['xml',\n",
    "           'other',\n",
    "           'php',\n",
    "           'woff',\n",
    "           'json']\n",
    "\n",
    "for file in range(len(files)):\n",
    "    try:\n",
    "        os.remove(files[file])\n",
    "    except:\n",
    "        print(f'Missing file: {files[file]}')\n",
    "    \n",
    "for folder in range(len(folders)):\n",
    "    try:\n",
    "        shutil.rmtree(folders[folder])\n",
    "    except:\n",
    "        print(f'Missing folder: {folders[folder]}')"
   ]
  },
  {
   "cell_type": "code",
   "execution_count": 17,
   "id": "a989b232",
   "metadata": {},
   "outputs": [
    {
     "data": {
      "text/plain": [
       "0"
      ]
     },
     "execution_count": 17,
     "metadata": {},
     "output_type": "execute_result"
    }
   ],
   "source": [
    "# adding filenames files on current, CSS and JS folders\n",
    "command = 'dir /b > filenames.txt'\n",
    "subprocess.call(command, shell=True)\n",
    "\n",
    "command = 'cd css && dir /b > filenames.txt'\n",
    "subprocess.call(command, shell=True)\n",
    "\n",
    "command = 'cd js && dir /b > filenames.txt'\n",
    "subprocess.call(command, shell=True)"
   ]
  },
  {
   "cell_type": "code",
   "execution_count": 18,
   "id": "956402ee",
   "metadata": {},
   "outputs": [],
   "source": [
    "# adds all html files names in the files list\n",
    "files = []\n",
    "\n",
    "with open('filenames.txt', 'r') as filenames:\n",
    "    for line in filenames:\n",
    "        if line[len(line)-6:len(line)-1] == '.html':\n",
    "            files.append(line[:len(line)-1])\n",
    "        else:\n",
    "            pass"
   ]
  },
  {
   "cell_type": "code",
   "execution_count": 26,
   "id": "7fcbf2a2",
   "metadata": {},
   "outputs": [
    {
     "data": {
      "text/plain": [
       "bytes"
      ]
     },
     "execution_count": 26,
     "metadata": {},
     "output_type": "execute_result"
    }
   ],
   "source": [
    "type(soup.prettify().encode('UTF-8'))"
   ]
  },
  {
   "cell_type": "code",
   "execution_count": 27,
   "id": "d97b7fd9",
   "metadata": {},
   "outputs": [
    {
     "name": "stdout",
     "output_type": "stream",
     "text": [
      "Working on: index-5.html\n",
      "Working on: index-6.html\n",
      "Working on: index-7.html\n",
      "Working on: index.html\n"
     ]
    }
   ],
   "source": [
    "# delete httrack added lines and all comments\n",
    "for file in range(len(files)):\n",
    "    print(f'Working on: {files[file]}')\n",
    "    with open(files[file], 'r') as input_file:\n",
    "        soup = BeautifulSoup(input_file)\n",
    "\n",
    "        for element in soup(text=lambda text: isinstance(text, Comment)):\n",
    "            element.extract()\n",
    "    with open(f'1{files[file]}', 'wb') as output_file:\n",
    "              output_file.write(soup.prettify().encode('UTF-8'))\n",
    "        \n",
    "for file in range(len(files)):\n",
    "    os.remove(files[file])\n",
    "    os.rename(f'1{files[file]}', files[file])"
   ]
  },
  {
   "cell_type": "code",
   "execution_count": 7,
   "id": "484a1b2c",
   "metadata": {},
   "outputs": [
    {
     "name": "stdout",
     "output_type": "stream",
     "text": [
      "Working on: index-5.html\n",
      "Working on: index-6.html\n",
      "Working on: index-7.html\n",
      "Working on: index.html\n",
      "Renaming files... Done!\n"
     ]
    }
   ],
   "source": [
    "# deletes lines that contain srcset in HTML files\n",
    "words_to_replace = ['srcset', 'data-srcset', 'data-src']\n",
    "\n",
    "for file in range(len(files)):\n",
    "    print(f'Working on: {files[file]}')\n",
    "    with open(files[file], 'r') as oldfile, open(f'1{files[file]}', 'w') as newfile:\n",
    "        for line in oldfile:\n",
    "            if not any(bad_word in line for bad_word in words_to_replace):\n",
    "                newfile.write(line)\n",
    "                \n",
    "print('Renaming files... ', end = '')\n",
    "\n",
    "for file in range(len(files)):\n",
    "    os.remove(files[file])\n",
    "    os.rename(f'1{files[file]}', files[file])\n",
    "    \n",
    "print('Done!')"
   ]
  },
  {
   "cell_type": "code",
   "execution_count": 8,
   "id": "f84efc79",
   "metadata": {},
   "outputs": [
    {
     "name": "stdout",
     "output_type": "stream",
     "text": [
      "Working on: index-5.html\n",
      "Working on: index-6.html\n",
      "Working on: index-7.html\n",
      "Working on: index.html\n"
     ]
    }
   ],
   "source": [
    "# replce words in HTML files\n",
    "old_domain = 'localhost'\n",
    "new_domain = 'giacomodandria.github.io'\n",
    "http = 'http'\n",
    "https = 'https'\n",
    "httpss = 'httpss'\n",
    "\n",
    "for i in range(len(files)):\n",
    "    print(f'Working on: {files[i]}')\n",
    "    # Read in the file\n",
    "    with open(files[i], 'r') as file :\n",
    "      filedata = file.read()\n",
    "\n",
    "    # Replace the target string\n",
    "    filedata = filedata.replace(old_domain, new_domain)\n",
    "    filedata = filedata.replace(http, https)\n",
    "    filedata = filedata.replace(httpss, https)\n",
    "    for j in range(len(html_file_names)):\n",
    "        if html_file_names[j][0] == '':\n",
    "            break\n",
    "        else:\n",
    "            filedata = filedata.replace(html_file_names[j][0], html_file_names[j][1])\n",
    "\n",
    "    # Write the file out again\n",
    "    with open(files[i], 'w') as file:\n",
    "      file.write(filedata)"
   ]
  },
  {
   "cell_type": "code",
   "execution_count": 9,
   "id": "744d409f",
   "metadata": {},
   "outputs": [
    {
     "name": "stdout",
     "output_type": "stream",
     "text": [
      "Working on: dynamic-mobmenu1ce0.css\n",
      "Working on: dynamic-mobmenu95b1.css\n",
      "Working on: dynamic-mobmenu9cb7.css\n",
      "Working on: dynamic-mobmenuebc2.css\n",
      "Working on: filenames.txt\n",
      "Working on: main.min2e46.css\n",
      "Working on: mobmenu-icons9b2d.css\n",
      "Unable to read unicode char in above file. Skipping to the next one.\n",
      "Working on: mobmenue6be.css\n",
      "Working on: style.min9b2d.css\n",
      "Working on: uag-css-23-1667732882e823.css\n",
      "Working on: uag-css-25-1667732882e823.css\n",
      "Working on: uag-css-27-1667732891e823.css\n",
      "Working on: uag-css-6-1667732822e823.css\n"
     ]
    }
   ],
   "source": [
    "# replace words in CSS files\n",
    "files = []\n",
    "\n",
    "with open('css/filenames.txt', 'r') as filenames:\n",
    "    for line in filenames:\n",
    "        files.append(line[:len(line)-1])\n",
    "\n",
    "old_domain = 'localhost'\n",
    "new_domain = 'giacomodandria.github.io'\n",
    "http = 'http'\n",
    "https = 'https'\n",
    "httpss = 'httpss'\n",
    "\n",
    "for i in range(len(files)):\n",
    "    try:\n",
    "        print(f'Working on: {files[i]}')\n",
    "        # Read in the file\n",
    "        with open(f'css/{files[i]}', 'r') as file :\n",
    "          filedata = file.read()\n",
    "\n",
    "        # Replace the target string\n",
    "        filedata = filedata.replace(old_domain, new_domain)\n",
    "        filedata = filedata.replace(http, https)\n",
    "        filedata = filedata.replace(httpss, https)\n",
    "\n",
    "        # Write the file out again\n",
    "        with open(f'css/{files[i]}', 'w') as file:\n",
    "          file.write(filedata)\n",
    "    except UnicodeDecodeError:\n",
    "        print('Unable to read unicode char in above file. Skipping to the next one.')"
   ]
  },
  {
   "cell_type": "code",
   "execution_count": 10,
   "id": "2d391efd",
   "metadata": {},
   "outputs": [
    {
     "name": "stdout",
     "output_type": "stream",
     "text": [
      "Working on: filenames.txt\n",
      "Working on: forms.mine823.js\n",
      "Working on: frontend.min2e46.js\n",
      "Working on: jquery-migrate.mind617.js\n",
      "Working on: jquery.mina7a0.js\n",
      "Working on: mobmenue6be.js\n",
      "Working on: uag-js-27-1667732891e823.js\n"
     ]
    }
   ],
   "source": [
    "# replace words in JS files\n",
    "files = []\n",
    "\n",
    "with open('js/filenames.txt', 'r') as filenames:\n",
    "    for line in filenames:\n",
    "        files.append(line[:len(line)-1])\n",
    "\n",
    "old_domain = 'localhost'\n",
    "new_domain = 'giacomodandria.github.io'\n",
    "http = 'http'\n",
    "https = 'https'\n",
    "httpss = 'httpss'\n",
    "\n",
    "for i in range(len(files)):\n",
    "    try:\n",
    "        print(f'Working on: {files[i]}')\n",
    "        # Read in the file\n",
    "        with open(f'js/{files[i]}', 'r') as file :\n",
    "          filedata = file.read()\n",
    "\n",
    "        # Replace the target string\n",
    "        filedata = filedata.replace(old_domain, new_domain)\n",
    "        filedata = filedata.replace(http, https)\n",
    "        filedata = filedata.replace(httpss, https)\n",
    "\n",
    "        # Write the file out again\n",
    "        with open(f'js/{files[i]}', 'w') as file:\n",
    "          file.write(filedata)\n",
    "    except UnicodeDecodeError:\n",
    "        print('Unable to read unicode char in above file. Skipping to the next one.')"
   ]
  },
  {
   "cell_type": "code",
   "execution_count": 11,
   "id": "25faa18c",
   "metadata": {},
   "outputs": [],
   "source": [
    "# delete filenames files from folders\n",
    "os.remove('filenames.txt')\n",
    "os.remove('css/filenames.txt')\n",
    "os.remove('js/filenames.txt')"
   ]
  },
  {
   "cell_type": "code",
   "execution_count": 12,
   "id": "6725ab02",
   "metadata": {},
   "outputs": [],
   "source": [
    "# rename html files\n",
    "for i in range(len(html_file_names)):\n",
    "    if html_file_names[i][0] == '':\n",
    "            break\n",
    "    else:\n",
    "        os.rename(html_file_names[i][0], html_file_names[i][1])"
   ]
  }
 ],
 "metadata": {
  "kernelspec": {
   "display_name": "Python 3 (ipykernel)",
   "language": "python",
   "name": "python3"
  },
  "language_info": {
   "codemirror_mode": {
    "name": "ipython",
    "version": 3
   },
   "file_extension": ".py",
   "mimetype": "text/x-python",
   "name": "python",
   "nbconvert_exporter": "python",
   "pygments_lexer": "ipython3",
   "version": "3.8.8"
  }
 },
 "nbformat": 4,
 "nbformat_minor": 5
}
