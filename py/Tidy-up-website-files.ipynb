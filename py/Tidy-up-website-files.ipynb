{
 "cells": [
  {
   "cell_type": "code",
   "execution_count": null,
   "id": "e9a41d75",
   "metadata": {},
   "outputs": [],
   "source": [
    "import os\n",
    "import shutil\n",
    "import subprocess\n",
    "from bs4 import BeautifulSoup, Comment"
   ]
  },
  {
   "cell_type": "code",
   "execution_count": null,
   "id": "bcef1122",
   "metadata": {},
   "outputs": [],
   "source": [
    "# rename index files to represent actual content\n",
    "html_file_names = [('index-5.html', 'about-us.html'),\n",
    "                   ('index-6.html', 'our-projects.html'),\n",
    "                   ('index-7.html', 'book-us.html'),\n",
    "                   ('', ''),\n",
    "                   ('', ''),\n",
    "                   ('', '')]"
   ]
  },
  {
   "cell_type": "code",
   "execution_count": null,
   "id": "2e3c1804",
   "metadata": {},
   "outputs": [],
   "source": [
    "# deletes files and folders\n",
    "files = ['index1c4a.html',\n",
    "         'index-2.html',\n",
    "         'index-3.html',\n",
    "         'index-4.html',\n",
    "         'index40a0.html',\n",
    "         'index970c.html']\n",
    "\n",
    "folders = ['xml',\n",
    "           'other',\n",
    "           'php',\n",
    "           'woff',\n",
    "           'json']\n",
    "\n",
    "for file in range(len(files)):\n",
    "    try:\n",
    "        os.remove(files[file])\n",
    "    except:\n",
    "        print(f'Missing file: {files[file]}')\n",
    "    \n",
    "for folder in range(len(folders)):\n",
    "    try:\n",
    "        shutil.rmtree(folders[folder])\n",
    "    except:\n",
    "        print(f'Missing folder: {folders[folder]}')"
   ]
  },
  {
   "cell_type": "code",
   "execution_count": null,
   "id": "a989b232",
   "metadata": {},
   "outputs": [],
   "source": [
    "# adding filenames files on current, CSS and JS folders\n",
    "command = 'dir /b > filenames.txt'\n",
    "subprocess.call(command, shell=True)\n",
    "\n",
    "command = 'cd css && dir /b > filenames.txt'\n",
    "subprocess.call(command, shell=True)\n",
    "\n",
    "command = 'cd js && dir /b > filenames.txt'\n",
    "subprocess.call(command, shell=True)"
   ]
  },
  {
   "cell_type": "code",
   "execution_count": null,
   "id": "728dcf65",
   "metadata": {},
   "outputs": [],
   "source": [
    "# adds all html files names in the files list\n",
    "files_html = []\n",
    "\n",
    "with open('filenames.txt', 'r') as filenames:\n",
    "    for line in filenames:\n",
    "        if line[len(line)-6:len(line)-1] == '.html':\n",
    "            files_html.append(line[:len(line)-1])\n",
    "        else:\n",
    "            pass"
   ]
  },
  {
   "cell_type": "code",
   "execution_count": null,
   "id": "d97b7fd9",
   "metadata": {},
   "outputs": [],
   "source": [
    "# delete httrack added lines and all comments\n",
    "for file in range(len(files_html)):\n",
    "    print(f'Working on: {files_html[file]}')\n",
    "    with open(files_html[file], 'r') as input_file:\n",
    "        soup = BeautifulSoup(input_file)\n",
    "\n",
    "        for element in soup(text=lambda text: isinstance(text, Comment)):\n",
    "            element.extract()\n",
    "            \n",
    "    with open(f'1{files_html[file]}', 'wb') as output_file:\n",
    "              output_file.write(soup.encode('UTF-8'))#.prettify().encode('UTF-8'))       \n",
    "        \n",
    "for file in range(len(files_html)):\n",
    "    os.remove(files_html[file])\n",
    "    os.rename(f'1{files_html[file]}', files_html[file])"
   ]
  },
  {
   "cell_type": "code",
   "execution_count": null,
   "id": "f6b5b468",
   "metadata": {},
   "outputs": [],
   "source": [
    "# opens files in vscode to beautify them with the correct plugin\n",
    "for file in range(len(files_html)):\n",
    "    command = f'code {files_html[file]}'\n",
    "    subprocess.call(command, shell=True)\n",
    "\n",
    "print('Done!')"
   ]
  },
  {
   "cell_type": "markdown",
   "id": "379984ba",
   "metadata": {},
   "source": [
    "# Make sure files are beautified and closed before continuing"
   ]
  },
  {
   "cell_type": "code",
   "execution_count": null,
   "id": "484a1b2c",
   "metadata": {},
   "outputs": [],
   "source": [
    "# deletes lines that contain srcset in HTML files\n",
    "words_to_replace = ['srcset', 'data-srcset', 'data-src']\n",
    "\n",
    "for file in range(len(files_html)):\n",
    "    print(f'Working on: {files_html[file]}')\n",
    "    with open(files_html[file], 'r') as oldfile, open(f'1{files_html[file]}', 'w') as newfile:\n",
    "        for line in oldfile:\n",
    "            if not any(bad_word in line for bad_word in words_to_replace):\n",
    "                newfile.write(line)\n",
    "                \n",
    "print('Renaming files... ', end = '')\n",
    "\n",
    "for file in range(len(files_html)):\n",
    "    os.remove(files_html[file])\n",
    "    os.rename(f'1{files_html[file]}', files_html[file])\n",
    "    \n",
    "print('Done!')"
   ]
  },
  {
   "cell_type": "code",
   "execution_count": null,
   "id": "f84efc79",
   "metadata": {},
   "outputs": [],
   "source": [
    "# replce words in HTML files\n",
    "old_domain = 'localhost'\n",
    "new_domain = 'giacomodandria.github.io'\n",
    "http = 'http'\n",
    "https = 'https'\n",
    "httpss = 'httpss'\n",
    "\n",
    "for i in range(len(files_html)):\n",
    "    print(f'Working on: {files_html[i]}')\n",
    "    # Read in the file\n",
    "    with open(files_html[i], 'r') as file :\n",
    "      filedata = file.read()\n",
    "\n",
    "    # Replace the target string\n",
    "    filedata = filedata.replace(old_domain, new_domain)\n",
    "    filedata = filedata.replace(http, https)\n",
    "    filedata = filedata.replace(httpss, https)\n",
    "    for j in range(len(html_file_names)):\n",
    "        if html_file_names[j][0] == '':\n",
    "            break\n",
    "        else:\n",
    "            filedata = filedata.replace(html_file_names[j][0], html_file_names[j][1])\n",
    "\n",
    "    # Write the file out again\n",
    "    with open(files_html[i], 'w') as file:\n",
    "      file.write(filedata)"
   ]
  },
  {
   "cell_type": "code",
   "execution_count": null,
   "id": "744d409f",
   "metadata": {},
   "outputs": [],
   "source": [
    "# replace words in CSS files\n",
    "files_css = []\n",
    "\n",
    "with open('css/filenames.txt', 'r') as filenames:\n",
    "    for line in filenames:\n",
    "        files_css.append(line[:len(line)-1])\n",
    "\n",
    "old_domain = 'localhost'\n",
    "new_domain = 'giacomodandria.github.io'\n",
    "http = 'http'\n",
    "https = 'https'\n",
    "httpss = 'httpss'\n",
    "\n",
    "for i in range(len(files_css)):\n",
    "    try:\n",
    "        print(f'Working on: {files_css[i]}')\n",
    "        # Read in the file\n",
    "        with open(f'css/{files_css[i]}', 'r') as file :\n",
    "          filedata = file.read()\n",
    "\n",
    "        # Replace the target string\n",
    "        filedata = filedata.replace(old_domain, new_domain)\n",
    "        filedata = filedata.replace(http, https)\n",
    "        filedata = filedata.replace(httpss, https)\n",
    "\n",
    "        # Write the file out again\n",
    "        with open(f'css/{files_css[i]}', 'w') as file:\n",
    "          file.write(filedata)\n",
    "    except UnicodeDecodeError:\n",
    "        print('Unable to read unicode char in above file. Skipping to the next one.')"
   ]
  },
  {
   "cell_type": "code",
   "execution_count": null,
   "id": "2d391efd",
   "metadata": {},
   "outputs": [],
   "source": [
    "# replace words in JS files\n",
    "files_js = []\n",
    "\n",
    "with open('js/filenames.txt', 'r') as filenames:\n",
    "    for line in filenames:\n",
    "        files_js.append(line[:len(line)-1])\n",
    "\n",
    "old_domain = 'localhost'\n",
    "new_domain = 'giacomodandria.github.io'\n",
    "http = 'http'\n",
    "https = 'https'\n",
    "httpss = 'httpss'\n",
    "\n",
    "for i in range(len(files_js)):\n",
    "    try:\n",
    "        print(f'Working on: {files_js[i]}')\n",
    "        # Read in the file\n",
    "        with open(f'js/{files_js[i]}', 'r') as file :\n",
    "          filedata = file.read()\n",
    "\n",
    "        # Replace the target string\n",
    "        filedata = filedata.replace(old_domain, new_domain)\n",
    "        filedata = filedata.replace(http, https)\n",
    "        filedata = filedata.replace(httpss, https)\n",
    "\n",
    "        # Write the file out again\n",
    "        with open(f'js/{files_js[i]}', 'w') as file:\n",
    "          file.write(filedata)\n",
    "    except UnicodeDecodeError:\n",
    "        print('Unable to read unicode char in above file. Skipping to the next one.')"
   ]
  },
  {
   "cell_type": "code",
   "execution_count": null,
   "id": "25faa18c",
   "metadata": {},
   "outputs": [],
   "source": [
    "# delete filenames files from folders\n",
    "os.remove('filenames.txt')\n",
    "os.remove('css/filenames.txt')\n",
    "os.remove('js/filenames.txt')"
   ]
  },
  {
   "cell_type": "code",
   "execution_count": null,
   "id": "de288b26",
   "metadata": {},
   "outputs": [],
   "source": [
    "# rename html files\n",
    "for i in range(len(html_file_names)):\n",
    "    if html_file_names[i][0] == '':\n",
    "            break\n",
    "    else:\n",
    "        os.rename(html_file_names[i][0], html_file_names[i][1])"
   ]
  }
 ],
 "metadata": {
  "kernelspec": {
   "display_name": "Python 3 (ipykernel)",
   "language": "python",
   "name": "python3"
  },
  "language_info": {
   "codemirror_mode": {
    "name": "ipython",
    "version": 3
   },
   "file_extension": ".py",
   "mimetype": "text/x-python",
   "name": "python",
   "nbconvert_exporter": "python",
   "pygments_lexer": "ipython3",
   "version": "3.8.8"
  }
 },
 "nbformat": 4,
 "nbformat_minor": 5
}
