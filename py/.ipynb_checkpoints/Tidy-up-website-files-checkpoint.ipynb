{
 "cells": [
  {
   "cell_type": "markdown",
   "id": "850652cf",
   "metadata": {},
   "source": [
    "# Make sure the files are beautified before starting the script"
   ]
  },
  {
   "cell_type": "code",
   "execution_count": null,
   "id": "e9a41d75",
   "metadata": {},
   "outputs": [],
   "source": [
    "import os\n",
    "import shutil\n",
    "import subprocess"
   ]
  },
  {
   "cell_type": "code",
   "execution_count": null,
   "id": "2e3c1804",
   "metadata": {},
   "outputs": [],
   "source": [
    "# deletes files and folders\n",
    "files = ['index1c4a.html',\n",
    "         'index-2.html',\n",
    "         'index-3.html',\n",
    "         'index-4.html',\n",
    "         'index40a0.html',\n",
    "         'index970c.html']\n",
    "\n",
    "folders = ['xml',\n",
    "           'other',\n",
    "           'php',\n",
    "           'woff',\n",
    "           'json']\n",
    "\n",
    "for file in range(len(files)):\n",
    "    try:\n",
    "        os.remove(files[file])\n",
    "    except:\n",
    "        print(f'Missing file: {files[file]}')\n",
    "    \n",
    "for folder in range(len(folders)):\n",
    "    try:\n",
    "        shutil.rmtree(folders[folder])\n",
    "    except:\n",
    "        print(f'Missing folder: {folders[folder]}')"
   ]
  },
  {
   "cell_type": "code",
   "execution_count": null,
   "id": "a989b232",
   "metadata": {},
   "outputs": [],
   "source": [
    "# adding filenames files on current, CSS and JS folders\n",
    "command = 'dir /b > filenames.txt'\n",
    "subprocess.call(command, shell=True)\n",
    "\n",
    "command = 'cd css && dir /b > filenames.txt'\n",
    "subprocess.call(command, shell=True)\n",
    "\n",
    "command = 'cd js && dir /b > filenames.txt'\n",
    "subprocess.call(command, shell=True)"
   ]
  },
  {
   "cell_type": "code",
   "execution_count": null,
   "id": "484a1b2c",
   "metadata": {},
   "outputs": [],
   "source": [
    "# deletes lines that contain srcset in HTML files\n",
    "# files = ['index.html',\n",
    "#          'index-5.html',\n",
    "#          'index-6.html',\n",
    "#          'index-7.html']\n",
    "\n",
    "files = []\n",
    "\n",
    "with open('filenames.txt', 'r') as filenames:\n",
    "    for line in filenames:\n",
    "        if line[len(line)-6:len(line)-1] == '.html':\n",
    "            files.append(line[:len(line)-1])\n",
    "        else:\n",
    "            pass\n",
    "\n",
    "words_to_replace = ['srcset', 'data-srcset', 'data-src']\n",
    "\n",
    "for file in range(len(files)):\n",
    "    print(f'Working on: {files[file]}')\n",
    "    with open(files[file], 'r') as oldfile, open(f'1{files[file]}', 'w') as newfile:\n",
    "        for line in oldfile:\n",
    "            if not any(bad_word in line for bad_word in words_to_replace):\n",
    "                newfile.write(line)\n",
    "                \n",
    "print('Renaming files... ', end = '')\n",
    "\n",
    "for file in range(len(files)):\n",
    "    os.remove(files[file])\n",
    "    os.rename(f'1{files[file]}', files[file])\n",
    "    \n",
    "print('Done!')"
   ]
  },
  {
   "cell_type": "code",
   "execution_count": null,
   "id": "f84efc79",
   "metadata": {},
   "outputs": [],
   "source": [
    "# replce words in HTML files\n",
    "old_domain = 'localhost'\n",
    "new_domain = 'giacomodandria.github.io'\n",
    "http = 'http'\n",
    "https = 'https'\n",
    "httpss = 'httpss'\n",
    "\n",
    "for i in range(len(files)):\n",
    "    print(f'Working on: {files[file]}')\n",
    "    # Read in the file\n",
    "    with open(files[i], 'r') as file :\n",
    "      filedata = file.read()\n",
    "\n",
    "    # Replace the target string\n",
    "    filedata = filedata.replace(old_domain, new_domain)\n",
    "    filedata = filedata.replace(http, https)\n",
    "    filedata = filedata.replace(httpss, https)\n",
    "\n",
    "    # Write the file out again\n",
    "    with open(files[i], 'w') as file:\n",
    "      file.write(filedata)"
   ]
  },
  {
   "cell_type": "code",
   "execution_count": null,
   "id": "744d409f",
   "metadata": {},
   "outputs": [],
   "source": [
    "# replace words in CSS files\n",
    "files = []\n",
    "\n",
    "with open('css/filenames.txt', 'r') as filenames:\n",
    "    for line in filenames:\n",
    "        files.append(line[:len(line)-1])\n",
    "\n",
    "old_domain = 'localhost'\n",
    "new_domain = 'giacomodandria.github.io'\n",
    "http = 'http'\n",
    "https = 'https'\n",
    "httpss = 'httpss'\n",
    "\n",
    "for i in range(len(files)):\n",
    "    try:\n",
    "        print(f'Working on: {files[i]}')\n",
    "        # Read in the file\n",
    "        with open(f'css/{files[i]}', 'r') as file :\n",
    "          filedata = file.read()\n",
    "\n",
    "        # Replace the target string\n",
    "        filedata = filedata.replace(old_domain, new_domain)\n",
    "        filedata = filedata.replace(http, https)\n",
    "        filedata = filedata.replace(httpss, https)\n",
    "\n",
    "        # Write the file out again\n",
    "        with open(f'css/{files[i]}', 'w') as file:\n",
    "          file.write(filedata)\n",
    "    except UnicodeDecodeError:\n",
    "        print('Unable to read unicode char in above file. Skipping to the next one.')"
   ]
  },
  {
   "cell_type": "code",
   "execution_count": null,
   "id": "2d391efd",
   "metadata": {},
   "outputs": [],
   "source": [
    "# replace words in JS files\n",
    "files = []\n",
    "\n",
    "with open('js/filenames.txt', 'r') as filenames:\n",
    "    for line in filenames:\n",
    "        files.append(line[:len(line)-1])\n",
    "\n",
    "old_domain = 'localhost'\n",
    "new_domain = 'giacomodandria.github.io'\n",
    "http = 'http'\n",
    "https = 'https'\n",
    "httpss = 'httpss'\n",
    "\n",
    "for i in range(len(files)):\n",
    "    try:\n",
    "        print(f'Working on: {files[i]}')\n",
    "        # Read in the file\n",
    "        with open(f'js/{files[i]}', 'r') as file :\n",
    "          filedata = file.read()\n",
    "\n",
    "        # Replace the target string\n",
    "        filedata = filedata.replace(old_domain, new_domain)\n",
    "        filedata = filedata.replace(http, https)\n",
    "        filedata = filedata.replace(httpss, https)\n",
    "\n",
    "        # Write the file out again\n",
    "        with open(f'js/{files[i]}', 'w') as file:\n",
    "          file.write(filedata)\n",
    "    except UnicodeDecodeError:\n",
    "        print('Unable to read unicode char in above file. Skipping to the next one.')"
   ]
  },
  {
   "cell_type": "code",
   "execution_count": null,
   "id": "25faa18c",
   "metadata": {},
   "outputs": [],
   "source": [
    "# delete filenames files from folders\n"
   ]
  },
  {
   "cell_type": "code",
   "execution_count": null,
   "id": "d97b7fd9",
   "metadata": {},
   "outputs": [],
   "source": [
    "# delete httrack added lines\n"
   ]
  }
 ],
 "metadata": {
  "kernelspec": {
   "display_name": "Python 3 (ipykernel)",
   "language": "python",
   "name": "python3"
  },
  "language_info": {
   "codemirror_mode": {
    "name": "ipython",
    "version": 3
   },
   "file_extension": ".py",
   "mimetype": "text/x-python",
   "name": "python",
   "nbconvert_exporter": "python",
   "pygments_lexer": "ipython3",
   "version": "3.8.8"
  }
 },
 "nbformat": 4,
 "nbformat_minor": 5
}
