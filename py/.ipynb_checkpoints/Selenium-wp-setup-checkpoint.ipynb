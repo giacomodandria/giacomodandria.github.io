{
 "cells": [
  {
   "cell_type": "code",
   "execution_count": 13,
   "id": "b037d79a",
   "metadata": {},
   "outputs": [],
   "source": [
    "from selenium import webdriver\n",
    "from selenium.webdriver.common.keys import Keys\n",
    "from selenium.webdriver.common.by import By\n",
    "from selenium.webdriver.common.action_chains import ActionChains\n",
    "from time import sleep\n",
    "import os\n",
    "from distutils.dir_util import copy_tree\n",
    "\n",
    "from selenium.webdriver.support.ui import WebDriverWait\n",
    "from selenium.webdriver.support import expected_conditions as EC\n",
    "from selenium.common.exceptions import TimeoutException"
   ]
  },
  {
   "cell_type": "code",
   "execution_count": 2,
   "id": "f7e47f34",
   "metadata": {},
   "outputs": [],
   "source": [
    "website_name = 'sarah-davids'\n",
    "website_password = 'g8C&fCmLwPmP3oo^4w'\n",
    "admin_email = 'giacomodandria.dev@gmail.com'\n",
    "admin_username = 'giacomo.dandria'\n",
    "wordpress_path = '/Users/Giaco/Downloads/wordpress-6.0.2'\n",
    "plugins_collection_key = 'U0elB8mpolw6WZeV51my'"
   ]
  },
  {
   "cell_type": "code",
   "execution_count": 4,
   "id": "c557a202",
   "metadata": {},
   "outputs": [],
   "source": [
    "# get localhost/phpmyadmin\n",
    "driver = webdriver.Chrome('chromedriver')\n",
    "driver.maximize_window()\n",
    "driver.get('http://localhost/phpmyadmin/')\n",
    "\n",
    "# login\n",
    "driver.find_element(By.XPATH, '//*[@id=\"input_username\"]').send_keys('root')\n",
    "driver.find_element(By.XPATH, '//*[@id=\"input_go\"]').click()\n",
    "\n",
    "sleep(10)\n",
    "\n",
    "# create new database\n",
    "driver.find_element(By.XPATH, '//*[@id=\"topmenu\"]/li[1]/a').click()\n",
    "sleep(1)\n",
    "driver.find_element(By.XPATH, '//*[@id=\"text_create_db\"]').send_keys(website_name)\n",
    "driver.find_element(By.XPATH, '//*[@id=\"buttonGo\"]').click()"
   ]
  },
  {
   "cell_type": "code",
   "execution_count": 5,
   "id": "41f54fba",
   "metadata": {},
   "outputs": [],
   "source": [
    "# create folder for wordpress new website\n",
    "from_directory = wordpress_path\n",
    "to_directory = '/wamp64/www'\n",
    "copy_tree(from_directory, to_directory)\n",
    "\n",
    "# rename the copied wordpress folder to the new sites' name\n",
    "os.rename('/wamp64/www/wordpress', f'/wamp64/www/{website_name}')"
   ]
  },
  {
   "cell_type": "code",
   "execution_count": 6,
   "id": "3e770204",
   "metadata": {},
   "outputs": [],
   "source": [
    "driver.get(f'http://localhost/{website_name}/')\n",
    "\n",
    "# choose language\n",
    "driver.find_element(By.XPATH, '//*[@id=\"language-continue\"]').click()\n",
    "\n",
    "#let's go\n",
    "driver.find_element(By.XPATH, '/html/body/p[5]/a').click()\n",
    "\n",
    "# adds database name\n",
    "driver.find_element(By.XPATH, '//*[@id=\"dbname\"]').clear()\n",
    "driver.find_element(By.XPATH, '//*[@id=\"dbname\"]').send_keys(website_name)\n",
    "\n",
    "# adds database username\n",
    "driver.find_element(By.XPATH, '//*[@id=\"uname\"]').clear()\n",
    "driver.find_element(By.XPATH, '//*[@id=\"uname\"]').send_keys('root')\n",
    "\n",
    "# adds database password\n",
    "driver.find_element(By.XPATH, '//*[@id=\"pwd\"]').clear()\n",
    "\n",
    "# submit\n",
    "driver.find_element(By.XPATH, '/html/body/form/p[2]/input').click()\n",
    "\n",
    "# run the installation\n",
    "driver.find_element(By.XPATH, '/html/body/p[3]/a').click()\n",
    "\n",
    "# set site title\n",
    "driver.find_element(By.XPATH, '//*[@id=\"weblog_title\"]').clear()\n",
    "driver.find_element(By.XPATH, '//*[@id=\"weblog_title\"]').send_keys(website_name)\n",
    "\n",
    "# set username\n",
    "driver.find_element(By.XPATH, '//*[@id=\"user_login\"]').clear()\n",
    "driver.find_element(By.XPATH, '//*[@id=\"user_login\"]').send_keys(admin_username)\n",
    "\n",
    "# set password\n",
    "driver.find_element(By.XPATH, '//*[@id=\"pass1\"]').clear()\n",
    "driver.find_element(By.XPATH, '//*[@id=\"pass1\"]').send_keys(website_password)\n",
    "\n",
    "# set email\n",
    "driver.find_element(By.XPATH, '//*[@id=\"admin_email\"]').clear()\n",
    "driver.find_element(By.XPATH, '//*[@id=\"admin_email\"]').send_keys(admin_email)\n",
    "\n",
    "# install wordpress\n",
    "driver.find_element(By.XPATH, '//*[@id=\"submit\"]').click()\n",
    "\n",
    "# log in\n",
    "driver.find_element(By.XPATH, '/html/body/p[3]/a').click()\n",
    "\n",
    "# input login info for username\n",
    "driver.find_element(By.XPATH, '//*[@id=\"user_login\"]').clear()\n",
    "driver.find_element(By.XPATH, '//*[@id=\"user_login\"]').send_keys(admin_username)\n",
    "\n",
    "# input login info for password\n",
    "driver.find_element(By.XPATH, '//*[@id=\"user_pass\"]').clear()\n",
    "driver.find_element(By.XPATH, '//*[@id=\"user_pass\"]').send_keys(website_password)\n",
    "\n",
    "#log in\n",
    "driver.find_element(By.XPATH, '//*[@id=\"wp-submit\"]').click()"
   ]
  },
  {
   "cell_type": "code",
   "execution_count": 11,
   "id": "17eb8e45",
   "metadata": {
    "collapsed": true
   },
   "outputs": [
    {
     "ename": "ElementNotInteractableException",
     "evalue": "Message: element not interactable\n  (Session info: chrome=107.0.5304.107)\nStacktrace:\nBacktrace:\n\tOrdinal0 [0x00F1ACD3+2075859]\n\tOrdinal0 [0x00EAEE61+1633889]\n\tOrdinal0 [0x00DAB680+571008]\n\tOrdinal0 [0x00DDBBD6+768982]\n\tOrdinal0 [0x00DD1C76+728182]\n\tOrdinal0 [0x00DF731C+881436]\n\tOrdinal0 [0x00DD15BF+726463]\n\tOrdinal0 [0x00DF7534+881972]\n\tOrdinal0 [0x00E0B56A+963946]\n\tOrdinal0 [0x00DF7136+880950]\n\tOrdinal0 [0x00DCFEFD+720637]\n\tOrdinal0 [0x00DD0F3F+724799]\n\tGetHandleVerifier [0x011CEED2+2769538]\n\tGetHandleVerifier [0x011C0D95+2711877]\n\tGetHandleVerifier [0x00FAA03A+521194]\n\tGetHandleVerifier [0x00FA8DA0+516432]\n\tOrdinal0 [0x00EB682C+1665068]\n\tOrdinal0 [0x00EBB128+1683752]\n\tOrdinal0 [0x00EBB215+1683989]\n\tOrdinal0 [0x00EC6484+1729668]\n\tBaseThreadInitThunk [0x76C27BA9+25]\n\tRtlInitializeExceptionChain [0x77D8BB9B+107]\n\tRtlClearBits [0x77D8BB1F+191]\n",
     "output_type": "error",
     "traceback": [
      "\u001b[1;31m---------------------------------------------------------------------------\u001b[0m",
      "\u001b[1;31mElementNotInteractableException\u001b[0m           Traceback (most recent call last)",
      "\u001b[1;32m~\\AppData\\Local\\Temp/ipykernel_15648/1881266277.py\u001b[0m in \u001b[0;36m<module>\u001b[1;34m\u001b[0m\n\u001b[0;32m      1\u001b[0m \u001b[1;31m# open themes page\u001b[0m\u001b[1;33m\u001b[0m\u001b[1;33m\u001b[0m\u001b[1;33m\u001b[0m\u001b[0m\n\u001b[1;32m----> 2\u001b[1;33m \u001b[0mdriver\u001b[0m\u001b[1;33m.\u001b[0m\u001b[0mfind_element\u001b[0m\u001b[1;33m(\u001b[0m\u001b[0mBy\u001b[0m\u001b[1;33m.\u001b[0m\u001b[0mXPATH\u001b[0m\u001b[1;33m,\u001b[0m \u001b[1;34m'//*[@id=\"menu-appearance\"]/a/div[3]'\u001b[0m\u001b[1;33m)\u001b[0m\u001b[1;33m.\u001b[0m\u001b[0mclick\u001b[0m\u001b[1;33m(\u001b[0m\u001b[1;33m)\u001b[0m\u001b[1;33m\u001b[0m\u001b[1;33m\u001b[0m\u001b[0m\n\u001b[0m\u001b[0;32m      3\u001b[0m \u001b[1;33m\u001b[0m\u001b[0m\n\u001b[0;32m      4\u001b[0m \u001b[1;31m# add new theme\u001b[0m\u001b[1;33m\u001b[0m\u001b[1;33m\u001b[0m\u001b[1;33m\u001b[0m\u001b[0m\n\u001b[0;32m      5\u001b[0m \u001b[0mdriver\u001b[0m\u001b[1;33m.\u001b[0m\u001b[0mfind_element\u001b[0m\u001b[1;33m(\u001b[0m\u001b[0mBy\u001b[0m\u001b[1;33m.\u001b[0m\u001b[0mXPATH\u001b[0m\u001b[1;33m,\u001b[0m \u001b[1;34m'//*[@id=\"wpbody-content\"]/div[4]/a'\u001b[0m\u001b[1;33m)\u001b[0m\u001b[1;33m.\u001b[0m\u001b[0mclick\u001b[0m\u001b[1;33m(\u001b[0m\u001b[1;33m)\u001b[0m\u001b[1;33m\u001b[0m\u001b[1;33m\u001b[0m\u001b[0m\n",
      "\u001b[1;32m~\\anaconda3\\lib\\site-packages\\selenium\\webdriver\\remote\\webelement.py\u001b[0m in \u001b[0;36mclick\u001b[1;34m(self)\u001b[0m\n\u001b[0;32m     79\u001b[0m     \u001b[1;32mdef\u001b[0m \u001b[0mclick\u001b[0m\u001b[1;33m(\u001b[0m\u001b[0mself\u001b[0m\u001b[1;33m)\u001b[0m \u001b[1;33m->\u001b[0m \u001b[1;32mNone\u001b[0m\u001b[1;33m:\u001b[0m\u001b[1;33m\u001b[0m\u001b[1;33m\u001b[0m\u001b[0m\n\u001b[0;32m     80\u001b[0m         \u001b[1;34m\"\"\"Clicks the element.\"\"\"\u001b[0m\u001b[1;33m\u001b[0m\u001b[1;33m\u001b[0m\u001b[0m\n\u001b[1;32m---> 81\u001b[1;33m         \u001b[0mself\u001b[0m\u001b[1;33m.\u001b[0m\u001b[0m_execute\u001b[0m\u001b[1;33m(\u001b[0m\u001b[0mCommand\u001b[0m\u001b[1;33m.\u001b[0m\u001b[0mCLICK_ELEMENT\u001b[0m\u001b[1;33m)\u001b[0m\u001b[1;33m\u001b[0m\u001b[1;33m\u001b[0m\u001b[0m\n\u001b[0m\u001b[0;32m     82\u001b[0m \u001b[1;33m\u001b[0m\u001b[0m\n\u001b[0;32m     83\u001b[0m     \u001b[1;32mdef\u001b[0m \u001b[0msubmit\u001b[0m\u001b[1;33m(\u001b[0m\u001b[0mself\u001b[0m\u001b[1;33m)\u001b[0m\u001b[1;33m:\u001b[0m\u001b[1;33m\u001b[0m\u001b[1;33m\u001b[0m\u001b[0m\n",
      "\u001b[1;32m~\\anaconda3\\lib\\site-packages\\selenium\\webdriver\\remote\\webelement.py\u001b[0m in \u001b[0;36m_execute\u001b[1;34m(self, command, params)\u001b[0m\n\u001b[0;32m    708\u001b[0m             \u001b[0mparams\u001b[0m \u001b[1;33m=\u001b[0m \u001b[1;33m{\u001b[0m\u001b[1;33m}\u001b[0m\u001b[1;33m\u001b[0m\u001b[1;33m\u001b[0m\u001b[0m\n\u001b[0;32m    709\u001b[0m         \u001b[0mparams\u001b[0m\u001b[1;33m[\u001b[0m\u001b[1;34m'id'\u001b[0m\u001b[1;33m]\u001b[0m \u001b[1;33m=\u001b[0m \u001b[0mself\u001b[0m\u001b[1;33m.\u001b[0m\u001b[0m_id\u001b[0m\u001b[1;33m\u001b[0m\u001b[1;33m\u001b[0m\u001b[0m\n\u001b[1;32m--> 710\u001b[1;33m         \u001b[1;32mreturn\u001b[0m \u001b[0mself\u001b[0m\u001b[1;33m.\u001b[0m\u001b[0m_parent\u001b[0m\u001b[1;33m.\u001b[0m\u001b[0mexecute\u001b[0m\u001b[1;33m(\u001b[0m\u001b[0mcommand\u001b[0m\u001b[1;33m,\u001b[0m \u001b[0mparams\u001b[0m\u001b[1;33m)\u001b[0m\u001b[1;33m\u001b[0m\u001b[1;33m\u001b[0m\u001b[0m\n\u001b[0m\u001b[0;32m    711\u001b[0m \u001b[1;33m\u001b[0m\u001b[0m\n\u001b[0;32m    712\u001b[0m     \u001b[1;32mdef\u001b[0m \u001b[0mfind_element\u001b[0m\u001b[1;33m(\u001b[0m\u001b[0mself\u001b[0m\u001b[1;33m,\u001b[0m \u001b[0mby\u001b[0m\u001b[1;33m=\u001b[0m\u001b[0mBy\u001b[0m\u001b[1;33m.\u001b[0m\u001b[0mID\u001b[0m\u001b[1;33m,\u001b[0m \u001b[0mvalue\u001b[0m\u001b[1;33m=\u001b[0m\u001b[1;32mNone\u001b[0m\u001b[1;33m)\u001b[0m\u001b[1;33m:\u001b[0m\u001b[1;33m\u001b[0m\u001b[1;33m\u001b[0m\u001b[0m\n",
      "\u001b[1;32m~\\anaconda3\\lib\\site-packages\\selenium\\webdriver\\remote\\webdriver.py\u001b[0m in \u001b[0;36mexecute\u001b[1;34m(self, driver_command, params)\u001b[0m\n\u001b[0;32m    423\u001b[0m         \u001b[0mresponse\u001b[0m \u001b[1;33m=\u001b[0m \u001b[0mself\u001b[0m\u001b[1;33m.\u001b[0m\u001b[0mcommand_executor\u001b[0m\u001b[1;33m.\u001b[0m\u001b[0mexecute\u001b[0m\u001b[1;33m(\u001b[0m\u001b[0mdriver_command\u001b[0m\u001b[1;33m,\u001b[0m \u001b[0mparams\u001b[0m\u001b[1;33m)\u001b[0m\u001b[1;33m\u001b[0m\u001b[1;33m\u001b[0m\u001b[0m\n\u001b[0;32m    424\u001b[0m         \u001b[1;32mif\u001b[0m \u001b[0mresponse\u001b[0m\u001b[1;33m:\u001b[0m\u001b[1;33m\u001b[0m\u001b[1;33m\u001b[0m\u001b[0m\n\u001b[1;32m--> 425\u001b[1;33m             \u001b[0mself\u001b[0m\u001b[1;33m.\u001b[0m\u001b[0merror_handler\u001b[0m\u001b[1;33m.\u001b[0m\u001b[0mcheck_response\u001b[0m\u001b[1;33m(\u001b[0m\u001b[0mresponse\u001b[0m\u001b[1;33m)\u001b[0m\u001b[1;33m\u001b[0m\u001b[1;33m\u001b[0m\u001b[0m\n\u001b[0m\u001b[0;32m    426\u001b[0m             response['value'] = self._unwrap_value(\n\u001b[0;32m    427\u001b[0m                 response.get('value', None))\n",
      "\u001b[1;32m~\\anaconda3\\lib\\site-packages\\selenium\\webdriver\\remote\\errorhandler.py\u001b[0m in \u001b[0;36mcheck_response\u001b[1;34m(self, response)\u001b[0m\n\u001b[0;32m    245\u001b[0m                 \u001b[0malert_text\u001b[0m \u001b[1;33m=\u001b[0m \u001b[0mvalue\u001b[0m\u001b[1;33m[\u001b[0m\u001b[1;34m'alert'\u001b[0m\u001b[1;33m]\u001b[0m\u001b[1;33m.\u001b[0m\u001b[0mget\u001b[0m\u001b[1;33m(\u001b[0m\u001b[1;34m'text'\u001b[0m\u001b[1;33m)\u001b[0m\u001b[1;33m\u001b[0m\u001b[1;33m\u001b[0m\u001b[0m\n\u001b[0;32m    246\u001b[0m             \u001b[1;32mraise\u001b[0m \u001b[0mexception_class\u001b[0m\u001b[1;33m(\u001b[0m\u001b[0mmessage\u001b[0m\u001b[1;33m,\u001b[0m \u001b[0mscreen\u001b[0m\u001b[1;33m,\u001b[0m \u001b[0mstacktrace\u001b[0m\u001b[1;33m,\u001b[0m \u001b[0malert_text\u001b[0m\u001b[1;33m)\u001b[0m  \u001b[1;31m# type: ignore[call-arg]  # mypy is not smart enough here\u001b[0m\u001b[1;33m\u001b[0m\u001b[1;33m\u001b[0m\u001b[0m\n\u001b[1;32m--> 247\u001b[1;33m         \u001b[1;32mraise\u001b[0m \u001b[0mexception_class\u001b[0m\u001b[1;33m(\u001b[0m\u001b[0mmessage\u001b[0m\u001b[1;33m,\u001b[0m \u001b[0mscreen\u001b[0m\u001b[1;33m,\u001b[0m \u001b[0mstacktrace\u001b[0m\u001b[1;33m)\u001b[0m\u001b[1;33m\u001b[0m\u001b[1;33m\u001b[0m\u001b[0m\n\u001b[0m\u001b[0;32m    248\u001b[0m \u001b[1;33m\u001b[0m\u001b[0m\n\u001b[0;32m    249\u001b[0m     \u001b[1;32mdef\u001b[0m \u001b[0m_value_or_default\u001b[0m\u001b[1;33m(\u001b[0m\u001b[0mself\u001b[0m\u001b[1;33m,\u001b[0m \u001b[0mobj\u001b[0m\u001b[1;33m:\u001b[0m \u001b[0mMapping\u001b[0m\u001b[1;33m[\u001b[0m\u001b[0m_KT\u001b[0m\u001b[1;33m,\u001b[0m \u001b[0m_VT\u001b[0m\u001b[1;33m]\u001b[0m\u001b[1;33m,\u001b[0m \u001b[0mkey\u001b[0m\u001b[1;33m:\u001b[0m \u001b[0m_KT\u001b[0m\u001b[1;33m,\u001b[0m \u001b[0mdefault\u001b[0m\u001b[1;33m:\u001b[0m \u001b[0m_VT\u001b[0m\u001b[1;33m)\u001b[0m \u001b[1;33m->\u001b[0m \u001b[0m_VT\u001b[0m\u001b[1;33m:\u001b[0m\u001b[1;33m\u001b[0m\u001b[1;33m\u001b[0m\u001b[0m\n",
      "\u001b[1;31mElementNotInteractableException\u001b[0m: Message: element not interactable\n  (Session info: chrome=107.0.5304.107)\nStacktrace:\nBacktrace:\n\tOrdinal0 [0x00F1ACD3+2075859]\n\tOrdinal0 [0x00EAEE61+1633889]\n\tOrdinal0 [0x00DAB680+571008]\n\tOrdinal0 [0x00DDBBD6+768982]\n\tOrdinal0 [0x00DD1C76+728182]\n\tOrdinal0 [0x00DF731C+881436]\n\tOrdinal0 [0x00DD15BF+726463]\n\tOrdinal0 [0x00DF7534+881972]\n\tOrdinal0 [0x00E0B56A+963946]\n\tOrdinal0 [0x00DF7136+880950]\n\tOrdinal0 [0x00DCFEFD+720637]\n\tOrdinal0 [0x00DD0F3F+724799]\n\tGetHandleVerifier [0x011CEED2+2769538]\n\tGetHandleVerifier [0x011C0D95+2711877]\n\tGetHandleVerifier [0x00FAA03A+521194]\n\tGetHandleVerifier [0x00FA8DA0+516432]\n\tOrdinal0 [0x00EB682C+1665068]\n\tOrdinal0 [0x00EBB128+1683752]\n\tOrdinal0 [0x00EBB215+1683989]\n\tOrdinal0 [0x00EC6484+1729668]\n\tBaseThreadInitThunk [0x76C27BA9+25]\n\tRtlInitializeExceptionChain [0x77D8BB9B+107]\n\tRtlClearBits [0x77D8BB1F+191]\n"
     ]
    }
   ],
   "source": [
    "# open themes page\n",
    "driver.find_element(By.XPATH, '//*[@id=\"menu-appearance\"]/a/div[3]').click()\n",
    "\n",
    "# add new theme\n",
    "driver.find_element(By.XPATH, '//*[@id=\"wpbody-content\"]/div[4]/a').click()\n",
    "\n",
    "# search for astra\n",
    "driver.find_element(By.XPATH, '//*[@id=\"wp-filter-search-input\"]').send_keys('astra')\n",
    "sleep(10)\n",
    "\n",
    "# details and preview\n",
    "driver.find_element(By.XPATH, '//*[@id=\"wpbody-content\"]/div[4]/div[4]/div/div[1]/span').click()\n",
    "sleep(5)\n",
    "\n",
    "# install astra\n",
    "driver.find_element(By.XPATH, '//*[@id=\"wpbody-content\"]/div[4]/div[5]/div[1]/div[1]/a').click()\n",
    "sleep(10)\n",
    "\n",
    "# activate astra theme\n",
    "driver.find_element(By.XPATH, '//*[@id=\"wpbody-content\"]/div[4]/div[5]/div[1]/div[1]/a').click()"
   ]
  },
  {
   "cell_type": "raw",
   "id": "bee6d5f8",
   "metadata": {},
   "source": [
    "driver = webdriver.Chrome('chromedriver')\n",
    "driver.maximize_window()\n",
    "driver.get(f'http://localhost/{website_name}/')"
   ]
  },
  {
   "cell_type": "code",
   "execution_count": 19,
   "id": "484e535c",
   "metadata": {},
   "outputs": [
    {
     "name": "stdout",
     "output_type": "stream",
     "text": [
      "http://localhost/sarah-davids/wp-admin/\n"
     ]
    }
   ],
   "source": [
    "current_url = driver.current_url\n",
    "print(current_url)"
   ]
  },
  {
   "cell_type": "code",
   "execution_count": 22,
   "id": "bcedab8c",
   "metadata": {},
   "outputs": [
    {
     "name": "stdout",
     "output_type": "stream",
     "text": [
      "Ops...\n"
     ]
    },
    {
     "ename": "NoSuchElementException",
     "evalue": "Message: no such element: Unable to locate element: {\"method\":\"xpath\",\"selector\":\"//*[@id=\"the-list\"]/div[1]/div[1]/div[2]/ul/li[1]/a\"}\n  (Session info: chrome=107.0.5304.107)\nStacktrace:\nBacktrace:\n\tOrdinal0 [0x00F1ACD3+2075859]\n\tOrdinal0 [0x00EAEE61+1633889]\n\tOrdinal0 [0x00DAB7BD+571325]\n\tOrdinal0 [0x00DDAC2F+764975]\n\tOrdinal0 [0x00DDAE1B+765467]\n\tOrdinal0 [0x00E0D0F2+970994]\n\tOrdinal0 [0x00DF7364+881508]\n\tOrdinal0 [0x00E0B56A+963946]\n\tOrdinal0 [0x00DF7136+880950]\n\tOrdinal0 [0x00DCFEFD+720637]\n\tOrdinal0 [0x00DD0F3F+724799]\n\tGetHandleVerifier [0x011CEED2+2769538]\n\tGetHandleVerifier [0x011C0D95+2711877]\n\tGetHandleVerifier [0x00FAA03A+521194]\n\tGetHandleVerifier [0x00FA8DA0+516432]\n\tOrdinal0 [0x00EB682C+1665068]\n\tOrdinal0 [0x00EBB128+1683752]\n\tOrdinal0 [0x00EBB215+1683989]\n\tOrdinal0 [0x00EC6484+1729668]\n\tBaseThreadInitThunk [0x76C27BA9+25]\n\tRtlInitializeExceptionChain [0x77D8BB9B+107]\n\tRtlClearBits [0x77D8BB1F+191]\n",
     "output_type": "error",
     "traceback": [
      "\u001b[1;31m---------------------------------------------------------------------------\u001b[0m",
      "\u001b[1;31mNoSuchElementException\u001b[0m                    Traceback (most recent call last)",
      "\u001b[1;32m~\\AppData\\Local\\Temp/ipykernel_15648/410075735.py\u001b[0m in \u001b[0;36m<module>\u001b[1;34m\u001b[0m\n\u001b[0;32m     29\u001b[0m \u001b[1;33m\u001b[0m\u001b[0m\n\u001b[0;32m     30\u001b[0m \u001b[1;31m# install plugin\u001b[0m\u001b[1;33m\u001b[0m\u001b[1;33m\u001b[0m\u001b[1;33m\u001b[0m\u001b[0m\n\u001b[1;32m---> 31\u001b[1;33m \u001b[0mdriver\u001b[0m\u001b[1;33m.\u001b[0m\u001b[0mfind_element\u001b[0m\u001b[1;33m(\u001b[0m\u001b[0mBy\u001b[0m\u001b[1;33m.\u001b[0m\u001b[0mXPATH\u001b[0m\u001b[1;33m,\u001b[0m \u001b[1;34m'//*[@id=\"the-list\"]/div[1]/div[1]/div[2]/ul/li[1]/a'\u001b[0m\u001b[1;33m)\u001b[0m\u001b[1;33m.\u001b[0m\u001b[0mclick\u001b[0m\u001b[1;33m(\u001b[0m\u001b[1;33m)\u001b[0m\u001b[1;33m\u001b[0m\u001b[1;33m\u001b[0m\u001b[0m\n\u001b[0m\u001b[0;32m     32\u001b[0m \u001b[1;33m\u001b[0m\u001b[0m\n\u001b[0;32m     33\u001b[0m \u001b[1;31m# activate plugin\u001b[0m\u001b[1;33m\u001b[0m\u001b[1;33m\u001b[0m\u001b[1;33m\u001b[0m\u001b[0m\n",
      "\u001b[1;32m~\\anaconda3\\lib\\site-packages\\selenium\\webdriver\\remote\\webdriver.py\u001b[0m in \u001b[0;36mfind_element\u001b[1;34m(self, by, value)\u001b[0m\n\u001b[0;32m   1246\u001b[0m             \u001b[0mvalue\u001b[0m \u001b[1;33m=\u001b[0m \u001b[1;34m'[name=\"%s\"]'\u001b[0m \u001b[1;33m%\u001b[0m \u001b[0mvalue\u001b[0m\u001b[1;33m\u001b[0m\u001b[1;33m\u001b[0m\u001b[0m\n\u001b[0;32m   1247\u001b[0m \u001b[1;33m\u001b[0m\u001b[0m\n\u001b[1;32m-> 1248\u001b[1;33m         return self.execute(Command.FIND_ELEMENT, {\n\u001b[0m\u001b[0;32m   1249\u001b[0m             \u001b[1;34m'using'\u001b[0m\u001b[1;33m:\u001b[0m \u001b[0mby\u001b[0m\u001b[1;33m,\u001b[0m\u001b[1;33m\u001b[0m\u001b[1;33m\u001b[0m\u001b[0m\n\u001b[0;32m   1250\u001b[0m             'value': value})['value']\n",
      "\u001b[1;32m~\\anaconda3\\lib\\site-packages\\selenium\\webdriver\\remote\\webdriver.py\u001b[0m in \u001b[0;36mexecute\u001b[1;34m(self, driver_command, params)\u001b[0m\n\u001b[0;32m    423\u001b[0m         \u001b[0mresponse\u001b[0m \u001b[1;33m=\u001b[0m \u001b[0mself\u001b[0m\u001b[1;33m.\u001b[0m\u001b[0mcommand_executor\u001b[0m\u001b[1;33m.\u001b[0m\u001b[0mexecute\u001b[0m\u001b[1;33m(\u001b[0m\u001b[0mdriver_command\u001b[0m\u001b[1;33m,\u001b[0m \u001b[0mparams\u001b[0m\u001b[1;33m)\u001b[0m\u001b[1;33m\u001b[0m\u001b[1;33m\u001b[0m\u001b[0m\n\u001b[0;32m    424\u001b[0m         \u001b[1;32mif\u001b[0m \u001b[0mresponse\u001b[0m\u001b[1;33m:\u001b[0m\u001b[1;33m\u001b[0m\u001b[1;33m\u001b[0m\u001b[0m\n\u001b[1;32m--> 425\u001b[1;33m             \u001b[0mself\u001b[0m\u001b[1;33m.\u001b[0m\u001b[0merror_handler\u001b[0m\u001b[1;33m.\u001b[0m\u001b[0mcheck_response\u001b[0m\u001b[1;33m(\u001b[0m\u001b[0mresponse\u001b[0m\u001b[1;33m)\u001b[0m\u001b[1;33m\u001b[0m\u001b[1;33m\u001b[0m\u001b[0m\n\u001b[0m\u001b[0;32m    426\u001b[0m             response['value'] = self._unwrap_value(\n\u001b[0;32m    427\u001b[0m                 response.get('value', None))\n",
      "\u001b[1;32m~\\anaconda3\\lib\\site-packages\\selenium\\webdriver\\remote\\errorhandler.py\u001b[0m in \u001b[0;36mcheck_response\u001b[1;34m(self, response)\u001b[0m\n\u001b[0;32m    245\u001b[0m                 \u001b[0malert_text\u001b[0m \u001b[1;33m=\u001b[0m \u001b[0mvalue\u001b[0m\u001b[1;33m[\u001b[0m\u001b[1;34m'alert'\u001b[0m\u001b[1;33m]\u001b[0m\u001b[1;33m.\u001b[0m\u001b[0mget\u001b[0m\u001b[1;33m(\u001b[0m\u001b[1;34m'text'\u001b[0m\u001b[1;33m)\u001b[0m\u001b[1;33m\u001b[0m\u001b[1;33m\u001b[0m\u001b[0m\n\u001b[0;32m    246\u001b[0m             \u001b[1;32mraise\u001b[0m \u001b[0mexception_class\u001b[0m\u001b[1;33m(\u001b[0m\u001b[0mmessage\u001b[0m\u001b[1;33m,\u001b[0m \u001b[0mscreen\u001b[0m\u001b[1;33m,\u001b[0m \u001b[0mstacktrace\u001b[0m\u001b[1;33m,\u001b[0m \u001b[0malert_text\u001b[0m\u001b[1;33m)\u001b[0m  \u001b[1;31m# type: ignore[call-arg]  # mypy is not smart enough here\u001b[0m\u001b[1;33m\u001b[0m\u001b[1;33m\u001b[0m\u001b[0m\n\u001b[1;32m--> 247\u001b[1;33m         \u001b[1;32mraise\u001b[0m \u001b[0mexception_class\u001b[0m\u001b[1;33m(\u001b[0m\u001b[0mmessage\u001b[0m\u001b[1;33m,\u001b[0m \u001b[0mscreen\u001b[0m\u001b[1;33m,\u001b[0m \u001b[0mstacktrace\u001b[0m\u001b[1;33m)\u001b[0m\u001b[1;33m\u001b[0m\u001b[1;33m\u001b[0m\u001b[0m\n\u001b[0m\u001b[0;32m    248\u001b[0m \u001b[1;33m\u001b[0m\u001b[0m\n\u001b[0;32m    249\u001b[0m     \u001b[1;32mdef\u001b[0m \u001b[0m_value_or_default\u001b[0m\u001b[1;33m(\u001b[0m\u001b[0mself\u001b[0m\u001b[1;33m,\u001b[0m \u001b[0mobj\u001b[0m\u001b[1;33m:\u001b[0m \u001b[0mMapping\u001b[0m\u001b[1;33m[\u001b[0m\u001b[0m_KT\u001b[0m\u001b[1;33m,\u001b[0m \u001b[0m_VT\u001b[0m\u001b[1;33m]\u001b[0m\u001b[1;33m,\u001b[0m \u001b[0mkey\u001b[0m\u001b[1;33m:\u001b[0m \u001b[0m_KT\u001b[0m\u001b[1;33m,\u001b[0m \u001b[0mdefault\u001b[0m\u001b[1;33m:\u001b[0m \u001b[0m_VT\u001b[0m\u001b[1;33m)\u001b[0m \u001b[1;33m->\u001b[0m \u001b[0m_VT\u001b[0m\u001b[1;33m:\u001b[0m\u001b[1;33m\u001b[0m\u001b[1;33m\u001b[0m\u001b[0m\n",
      "\u001b[1;31mNoSuchElementException\u001b[0m: Message: no such element: Unable to locate element: {\"method\":\"xpath\",\"selector\":\"//*[@id=\"the-list\"]/div[1]/div[1]/div[2]/ul/li[1]/a\"}\n  (Session info: chrome=107.0.5304.107)\nStacktrace:\nBacktrace:\n\tOrdinal0 [0x00F1ACD3+2075859]\n\tOrdinal0 [0x00EAEE61+1633889]\n\tOrdinal0 [0x00DAB7BD+571325]\n\tOrdinal0 [0x00DDAC2F+764975]\n\tOrdinal0 [0x00DDAE1B+765467]\n\tOrdinal0 [0x00E0D0F2+970994]\n\tOrdinal0 [0x00DF7364+881508]\n\tOrdinal0 [0x00E0B56A+963946]\n\tOrdinal0 [0x00DF7136+880950]\n\tOrdinal0 [0x00DCFEFD+720637]\n\tOrdinal0 [0x00DD0F3F+724799]\n\tGetHandleVerifier [0x011CEED2+2769538]\n\tGetHandleVerifier [0x011C0D95+2711877]\n\tGetHandleVerifier [0x00FAA03A+521194]\n\tGetHandleVerifier [0x00FA8DA0+516432]\n\tOrdinal0 [0x00EB682C+1665068]\n\tOrdinal0 [0x00EBB128+1683752]\n\tOrdinal0 [0x00EBB215+1683989]\n\tOrdinal0 [0x00EC6484+1729668]\n\tBaseThreadInitThunk [0x76C27BA9+25]\n\tRtlInitializeExceptionChain [0x77D8BB9B+107]\n\tRtlClearBits [0x77D8BB1F+191]\n"
     ]
    }
   ],
   "source": [
    "# open plugins section\n",
    "driver.find_element(By.XPATH, '//*[@id=\"menu-plugins\"]/a/div[3]').click()\n",
    "\"\"\"\n",
    "# deletes preinstalled plugin akismet anti-spam\n",
    "driver.find_element(By.XPATH, '//*[@id=\"delete-akismet\"]').click()\n",
    "driver.switch_to.alert.accept()\n",
    "\n",
    "# deletes preinstalled plugin Hello dolly\n",
    "driver.find_element(By.XPATH, '//*[@id=\"delete-hello-dolly\"]').click()\n",
    "driver.switch_to.alert.accept()\n",
    "\n",
    "sleep(5)\n",
    "\"\"\"\n",
    "# add new plugin\n",
    "driver.find_element(By.XPATH, '//*[@id=\"menu-plugins\"]/a/div[3]').click()\n",
    "driver.find_element(By.XPATH, '//*[@id=\"menu-plugins\"]/ul/li[3]/a').click()\n",
    "sleep(2)\n",
    "\n",
    "\n",
    "#search for plugin\n",
    "current_url = driver.current_url\n",
    "driver.get(f'{current_url}update.php?action=install-plugin&plugin=wpcore&_wpnonce=308eff2780')\n",
    "DELAY = 20 # seconds\n",
    "try:\n",
    "    myElem = WebDriverWait(driver, DELAY).until(EC.presence_of_element_located((By.XPATH, '//*[@id=\"the-list\"]/div[1]/div[1]/div[2]/ul/li[1]/a')))\n",
    "    print(\"Hoorray!\")\n",
    "except TimeoutException:\n",
    "    print(\"Ops...\")\n",
    "\n",
    "# install plugin\n",
    "driver.find_element(By.XPATH, '//*[@id=\"the-list\"]/div[1]/div[1]/div[2]/ul/li[1]/a').click()\n",
    "\n",
    "# activate plugin\n",
    "driver.find_element(By.XPATH, '//*[@id=\"wpbody-content\"]/div[3]/p[5]/a[1]').click()\n",
    "\n",
    "# open plugin settings\n",
    "driver.find_element(By.XPATH, '//*[@id=\"the-list\"]/tr/td[1]/div/span[1]/a').click()\n",
    "\n",
    "# add collection key\n",
    "driver.find_element(By.XPATH, '//*[@id=\"wpcore_addrow\"]').click()\n",
    "\n",
    "# write collection key\n",
    "driver.find_element(By.XPATH, '//*[@id=\"wpcore_keys\"]/tbody/tr/td[1]/input').send_keys(plugins_collection_key)\n",
    "driver.find_element(By.XPATH, '//*[@id=\"wpcore_keys\"]/tbody/tr/td[1]/input').send_keys(Keys.ENTER)\n",
    "sleep(3)\n",
    "\n",
    "# install plugins\n",
    "driver.get(f'{current_url}plugins.php?page=wpcore-install-plugins')\n",
    "\n",
    "# bulk actions: install all\n",
    "driver.find_element(By.XPATH, '//*[@id=\"cb-select-all-1\"]').click()\n",
    "driver.find_element(By.XPATH, '//*[@id=\"bulk-action-selector-top\"]/option[2]').click()\n",
    "driver.find_element(By.XPATH, '//*[@id=\"doaction\"]').click()\n",
    "\n",
    "# bulk actions: activate all\n",
    "driver.find_element(By.XPATH, '//*[@id=\"menu-plugins\"]/ul/li[2]/a').click()\n",
    "driver.find_element(By.XPATH, '//*[@id=\"cb-select-all-1\"]').click()\n",
    "driver.find_element(By.XPATH, '//*[@id=\"bulk-action-selector-top\"]/option[2]').click()\n",
    "driver.find_element(By.XPATH, '//*[@id=\"doaction\"]').click()"
   ]
  },
  {
   "cell_type": "code",
   "execution_count": 26,
   "id": "12046858",
   "metadata": {},
   "outputs": [],
   "source": []
  }
 ],
 "metadata": {
  "kernelspec": {
   "display_name": "Python 3 (ipykernel)",
   "language": "python",
   "name": "python3"
  },
  "language_info": {
   "codemirror_mode": {
    "name": "ipython",
    "version": 3
   },
   "file_extension": ".py",
   "mimetype": "text/x-python",
   "name": "python",
   "nbconvert_exporter": "python",
   "pygments_lexer": "ipython3",
   "version": "3.8.8"
  }
 },
 "nbformat": 4,
 "nbformat_minor": 5
}
