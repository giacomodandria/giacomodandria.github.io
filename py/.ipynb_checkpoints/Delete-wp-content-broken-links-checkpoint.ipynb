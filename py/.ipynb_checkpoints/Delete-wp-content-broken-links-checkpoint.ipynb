{
 "cells": [
  {
   "cell_type": "code",
   "execution_count": null,
   "id": "4cef7a48",
   "metadata": {},
   "outputs": [],
   "source": [
    "filedata = '.wp-block-uagb-container.uagb-block-62eab8b8{box-shadow: 0 0   #00000070 ;padding-top: 10px;padding-bottom: 10px;padding-left: 10px;padding-right: 10px;margin-top:  !important;margin-bottom:  !important;row-gap: 20px;column-gap: 20px;overflow: visible;background: #FFFFFF75;;background-repeat: no-repeat;background-position: 50% 50%;background-size: cover;background-attachment: scroll;}.wp-block-uagb-container.uagb-block-62eab8b8.wp-block-uagb-container{color: inherit;border-color: #4B4F58;}.wp-block-uagb-container.uagb-is-root-container .uagb-block-62eab8b8{max-width: 100%;width: 100%;}.wp-block-uagb-container.uagb-block-62eab8b8 .uagb-container__shape-top svg{width: calc( 100% + 1.3px );}.wp-block-uagb-container.uagb-block-62eab8b8 .uagb-container__shape.uagb-container__shape-top .uagb-container__shape-fill{fill: rgba(51,51,51,1);}.wp-block-uagb-container.uagb-block-62eab8b8 .uagb-container__shape-bottom svg{width: calc( 100% + 1.3px );}.wp-block-uagb-container.uagb-block-62eab8b8 .uagb-container__shape.uagb-container__shape-bottom .uagb-container__shape-fill{fill: rgba(51,51,51,1);}.wp-block-uagb-container.uagb-block-62eab8b8 .uagb-container__video-wrap{background: #FFFFFF75;;background-repeat: no-repeat;background-position: 50% 50%;background-size: cover;background-attachment: scroll;}.wp-block-uagb-container.uagb-block-62eab8b8 .uagb-container__video-wrap video{opacity: 0.5;}.wp-block-uagb-container.uagb-is-root-container.alignfull.uagb-block-62eab8b8 > .uagb-container-inner-blocks-wrap{--inner-content-custom-width: min( 100%, 1200px);max-width: var(--inner-content-custom-width);width: 100%;flex-direction: column;align-items: center;justify-content: center;flex-wrap: nowrap;row-gap: 20px;column-gap: 20px;}.uagb-block-b28f94d4.wp-block-uagb-advanced-heading .uagb-heading-text{color: #14213d;margin-bottom: 15px;text-shadow: 2px 0 13px #00000000;}.uagb-block-b28f94d4.wp-block-uagb-advanced-heading {text-align: center;}.uagb-block-b28f94d4.wp-block-uagb-advanced-heading .uagb-highlight{font-style: normal;background: #007cba;color: #fff;-webkit-text-fill-color: #fff;}.uagb-block-b28f94d4.wp-block-uagb-advanced-heading .uagb-highlight::-moz-selection{color: #fff;background: #007cba;-webkit-text-fill-color: #fff;}.uagb-block-b28f94d4.wp-block-uagb-advanced-heading .uagb-highlight::selection{color: #fff;background: #007cba;-webkit-text-fill-color: #fff;}.uagb-block-b28f94d4.wp-block-uagb-advanced-heading .uagb-separator{border-top-style: solid;border-top-width: 2px;width: 12%;border-color: #0170b9;margin-bottom: 15px;}.uagb-block-b28f94d4 .uagb-heading-text{font-family: \"Montserrat\";font-weight: 800;font-size: 103px;line-height: 1.2em;letter-spacing: 0;}.uagb-block-7b6f7aea.wp-block-uagb-advanced-heading .uagb-heading-text{color: #14213d;margin-bottom: 15px;text-shadow: 2px 0 13px #00000000;}.uagb-block-7b6f7aea.wp-block-uagb-advanced-heading {text-align: center;}.uagb-block-7b6f7aea.wp-block-uagb-advanced-heading .uagb-highlight{font-style: normal;background: #007cba;color: #fff;-webkit-text-fill-color: #fff;}.uagb-block-7b6f7aea.wp-block-uagb-advanced-heading .uagb-highlight::-moz-selection{color: #fff;background: #007cba;-webkit-text-fill-color: #fff;}.uagb-block-7b6f7aea.wp-block-uagb-advanced-heading .uagb-highlight::selection{color: #fff;background: #007cba;-webkit-text-fill-color: #fff;}.uagb-block-7b6f7aea.wp-block-uagb-advanced-heading .uagb-separator{border-top-style: solid;border-top-width: 2px;width: 12%;border-color: #0170b9;margin-bottom: 15px;}.uagb-block-7b6f7aea .uagb-heading-text{font-family: \"Montserrat\";font-weight: 800;font-size: 76px;line-height: 1.2em;letter-spacing: 0;}.uagb-block-4a7e3689.wp-block-uagb-advanced-heading .uagb-heading-text{color: #14213d;margin-bottom: 15px;text-shadow: 2px 0 13px #00000000;}.uagb-block-4a7e3689.wp-block-uagb-advanced-heading {text-align: center;}.uagb-block-4a7e3689.wp-block-uagb-advanced-heading .uagb-highlight{font-style: normal;background: #007cba;color: #fff;-webkit-text-fill-color: #fff;}.uagb-block-4a7e3689.wp-block-uagb-advanced-heading .uagb-highlight::-moz-selection{color: #fff;background: #007cba;-webkit-text-fill-color: #fff;}.uagb-block-4a7e3689.wp-block-uagb-advanced-heading .uagb-highlight::selection{color: #fff;background: #007cba;-webkit-text-fill-color: #fff;}.uagb-block-4a7e3689.wp-block-uagb-advanced-heading .uagb-separator{border-top-style: solid;border-top-width: 2px;width: 12%;border-color: #0170b9;margin-bottom: 15px;}.uagb-block-4a7e3689 .uagb-heading-text{font-family: \"Montserrat\";font-weight: 800;font-size: 76px;line-height: 1.2em;letter-spacing: 0;}.uagb-block-dcc56617.wp-block-uagb-buttons.uagb-buttons__outer-wrap .uagb-buttons__wrap {column-gap: 10px;align-items: center;}.uagb-block-dcc56617.uagb-buttons__outer-wrap .uagb-buttons__wrap {justify-content: center;align-items: center;}.wp-block-uagb-buttons .uagb-block-f63cdab5.wp-block-uagb-buttons-child .uagb-buttons-repeater{background: #fca311;}.wp-block-uagb-buttons .uagb-block-f63cdab5 .wp-block-button__link{background: #fca311;}.wp-block-uagb-buttons .uagb-block-f63cdab5 .wp-block-button__link:hover{background: #fec872;}.wp-block-uagb-buttons .uagb-block-f63cdab5 .uagb-button__wrapper .uagb-buttons-repeater{font-family: \"Open Sans\";color: var(--ast-global-color-8);}.wp-block-uagb-buttons .uagb-block-f63cdab5 .wp-block-button__link.has-text-color:hover .uagb-button__link{color: var(--ast-global-color-8);}.wp-block-uagb-buttons .uagb-block-f63cdab5 .uagb-button__wrapper  .uagb-buttons-repeater.wp-block-button__link{box-shadow: -17px -19px 33px -18px rgba(0,0,0,0.44) ;}.wp-block-uagb-buttons .uagb-block-f63cdab5 .uagb-buttons-repeater.wp-block-button__link{border-top-left-radius: 15px;border-top-right-radius: 15px;border-bottom-left-radius: 15px;border-bottom-right-radius: 15px;border-color: #333;border-style: none;}.wp-block-uagb-buttons .uagb-block-f63cdab5.wp-block-button.is-style-outline .uagb-button__wrapper .wp-block-button__link.uagb-buttons-repeater{border-top-left-radius: 15px;border-top-right-radius: 15px;border-bottom-left-radius: 15px;border-bottom-right-radius: 15px;border-color: #333;border-style: none;}.wp-block-uagb-buttons .uagb-block-f63cdab5 .uagb-buttons-repeater.wp-block-button__link:hover{border-color: #333;}.wp-block-uagb-buttons .uagb-block-f63cdab5 .uagb-buttons-repeater .uagb-button__link{color: var(--ast-global-color-8);font-family: \"Open Sans\";}.wp-block-uagb-buttons .uagb-block-f63cdab5 .uagb-buttons-repeater .uagb-button__icon > svg{width: 15px;height: 15px;}.wp-block-uagb-buttons .uagb-block-f63cdab5 .uagb-buttons-repeater .uagb-button__icon-position-after{margin-left: 8px;}.wp-block-uagb-buttons .uagb-block-f63cdab5 .uagb-buttons-repeater .uagb-button__icon-position-before{margin-right: 8px;}.wp-block-uagb-buttons .uagb-block-f63cdab5 .uagb-button__link{font-family: \"Open Sans\";text-transform: normal;text-decoration: none;}.wp-block-uagb-container.uagb-block-b5f50c67{box-shadow: 0 0   #00000070 ;padding-top: 0;padding-bottom: 0;padding-left: 0;padding-right: 0;margin-top:  !important;margin-bottom:  !important;row-gap: 0;column-gap: 0;overflow: visible;}.wp-block-uagb-container.uagb-block-b5f50c67.wp-block-uagb-container{color: inherit;border-color: #4B4F58;}.wp-block-uagb-container.uagb-is-root-container .uagb-block-b5f50c67{max-width: 100%;width: 100%;}.wp-block-uagb-container.uagb-block-b5f50c67 .uagb-container__shape-top svg{width: calc( 100% + 1.3px );}.wp-block-uagb-container.uagb-block-b5f50c67 .uagb-container__shape.uagb-container__shape-top .uagb-container__shape-fill{fill: rgba(51,51,51,1);}.wp-block-uagb-container.uagb-block-b5f50c67 .uagb-container__shape-bottom svg{width: calc( 100% + 1.3px );}.wp-block-uagb-container.uagb-block-b5f50c67 .uagb-container__shape.uagb-container__shape-bottom .uagb-container__shape-fill{fill: rgba(51,51,51,1);}.wp-block-uagb-container.uagb-block-b5f50c67 .uagb-container__video-wrap video{opacity: 1;}.wp-block-uagb-container.uagb-is-root-container.alignfull.uagb-block-b5f50c67 > .uagb-container-inner-blocks-wrap{--inner-content-custom-width: min( 100%, 100%);max-width: var(--inner-content-custom-width);width: 100%;flex-direction: column;align-items: center;justify-content: center;flex-wrap: nowrap;row-gap: 0;column-gap: 0;}.uagb-block-3f6a29d9.wp-block-uagb-advanced-heading .uagb-heading-text{color: var(--ast-global-color-5);margin-bottom: 15px;}.uagb-block-3f6a29d9.wp-block-uagb-advanced-heading {text-align: right;}.uagb-block-3f6a29d9.wp-block-uagb-advanced-heading .uagb-highlight{font-style: normal;background: #007cba;color: #fff;-webkit-text-fill-color: #fff;}.uagb-block-3f6a29d9.wp-block-uagb-advanced-heading .uagb-highlight::-moz-selection{color: #fff;background: #007cba;-webkit-text-fill-color: #fff;}.uagb-block-3f6a29d9.wp-block-uagb-advanced-heading .uagb-highlight::selection{color: #fff;background: #007cba;-webkit-text-fill-color: #fff;}.uagb-block-3f6a29d9.wp-block-uagb-advanced-heading .uagb-separator{border-top-style: solid;border-top-width: 2px;width: 12%;border-color: #0170b9;margin-bottom: 15px;}.uagb-block-3f6a29d9 .uagb-heading-text{font-family: \"Montserrat\";font-size: 70px;}.uagb-block-fb13d0ec.wp-block-uagb-advanced-heading .uagb-heading-text{color: var(--ast-global-color-5);margin-bottom: 15px;}.uagb-block-fb13d0ec.wp-block-uagb-advanced-heading {text-align: right;}.uagb-block-fb13d0ec.wp-block-uagb-advanced-heading .uagb-highlight{font-style: normal;background: #007cba;color: #fff;-webkit-text-fill-color: #fff;}.uagb-block-fb13d0ec.wp-block-uagb-advanced-heading .uagb-highlight::-moz-selection{color: #fff;background: #007cba;-webkit-text-fill-color: #fff;}.uagb-block-fb13d0ec.wp-block-uagb-advanced-heading .uagb-highlight::selection{color: #fff;background: #007cba;-webkit-text-fill-color: #fff;}.uagb-block-fb13d0ec.wp-block-uagb-advanced-heading .uagb-separator{border-top-style: solid;border-top-width: 2px;width: 12%;border-color: #0170b9;margin-bottom: 15px;}.uagb-block-fb13d0ec .uagb-heading-text{font-family: \"Open Sans\";font-size: 15px;line-height: 2em;}.wp-block-uagb-container.uagb-block-9fa9f815{box-shadow: 0 0   #00000070 ;padding-top: 10px;padding-bottom: 10px;padding-left: 10px;padding-right: 10px;margin-top:  !important;margin-bottom:  !important;row-gap: 20px;column-gap: 20px;overflow: visible;background-image: url(../jpg/school1.jpg);;background-repeat: no-repeat;background-position: 50% 50%;background-size: cover;background-attachment: fixed;flex-direction: column;align-items: center;justify-content: center;flex-wrap: nowrap;}.wp-block-uagb-container.uagb-block-9fa9f815.wp-block-uagb-container{color: inherit;border-color: #4B4F58;}.wp-block-uagb-container.uagb-is-root-container .uagb-block-9fa9f815{max-width: 100%;width: 100%;}.wp-block-uagb-container.uagb-block-9fa9f815 .uagb-container__shape-top svg{width: calc( 100% + 1.3px );}.wp-block-uagb-container.uagb-block-9fa9f815 .uagb-container__shape.uagb-container__shape-top .uagb-container__shape-fill{fill: rgba(51,51,51,1);}.wp-block-uagb-container.uagb-block-9fa9f815 .uagb-container__shape-bottom svg{width: calc( 100% + 1.3px );}.wp-block-uagb-container.uagb-block-9fa9f815 .uagb-container__shape.uagb-container__shape-bottom .uagb-container__shape-fill{fill: rgba(51,51,51,1);}.wp-block-uagb-container.uagb-block-9fa9f815 .uagb-container__video-wrap{background-image: url(http://localhost/template2/wp-content/uploads/2022/11/school1.jpg);;background-repeat: no-repeat;background-position: 50% 50%;background-size: cover;background-attachment: fixed;}.wp-block-uagb-container.uagb-block-9fa9f815 .uagb-container__video-wrap video{opacity: 1;}.wp-block-uagb-container.uagb-is-root-container.alignfull.uagb-block-9fa9f815 > .uagb-container-inner-blocks-wrap{--inner-content-custom-width: min( 100%, 1200px);max-width: var(--inner-content-custom-width);width: 100%;flex-direction: column;align-items: center;justify-content: center;flex-wrap: nowrap;row-gap: 20px;column-gap: 20px;}.wp-block-uagb-image__figure{position:relative;display:inline-block;max-width:100%;height:auto;margin:0}.wp-block-uagb-image__figure img{height:auto;max-width:100%}.wp-block-uagb-image__figure>a{display:inline-block}.wp-block-uagb-image__figure figcaption{text-align:center;margin-top:0.5em;margin-bottom:1em}.wp-block-uagb-image--align-left{text-align:left}.wp-block-uagb-image--align-right{text-align:right}.wp-block-uagb-image--align-center{text-align:center}.wp-block-uagb-image--align-full .wp-block-uagb-image__figure{margin-left:calc(50% - 50vw);margin-right:calc(50% - 50vw);max-width:100vw;width:100vw;height:auto}.wp-block-uagb-image--align-full .wp-block-uagb-image__figure img{height:auto;width:100% !important}.wp-block-uagb-image--align-wide .wp-block-uagb-image__figure img{height:auto;width:100%}.wp-block-uagb-image--layout-overlay__color-wrapper{position:absolute;left:0;top:0;right:0;bottom:0;opacity:0.2;background:rgba(0,0,0,0.5);transition:opacity 0.35s ease-in-out}.wp-block-uagb-image--layout-overlay-link{position:absolute;left:0;right:0;bottom:0;top:0}.wp-block-uagb-image--layout-overlay .wp-block-uagb-image__figure:hover .wp-block-uagb-image--layout-overlay__color-wrapper{opacity:1}.wp-block-uagb-image--layout-overlay__inner{position:absolute;left:15px;right:15px;bottom:15px;top:15px;display:flex;align-items:center;justify-content:center;flex-direction:column;border-color:#fff;transition:0.35s ease-in-out}.wp-block-uagb-image--layout-overlay__inner.top-left,.wp-block-uagb-image--layout-overlay__inner.top-center,.wp-block-uagb-image--layout-overlay__inner.top-right{justify-content:flex-start}.wp-block-uagb-image--layout-overlay__inner.bottom-left,.wp-block-uagb-image--layout-overlay__inner.bottom-center,.wp-block-uagb-image--layout-overlay__inner.bottom-right{justify-content:flex-end}.wp-block-uagb-image--layout-overlay__inner.top-left,.wp-block-uagb-image--layout-overlay__inner.center-left,.wp-block-uagb-image--layout-overlay__inner.bottom-left{align-items:flex-start}.wp-block-uagb-image--layout-overlay__inner.top-right,.wp-block-uagb-image--layout-overlay__inner.center-right,.wp-block-uagb-image--layout-overlay__inner.bottom-right{align-items:flex-end}.wp-block-uagb-image--layout-overlay__inner .uagb-image-heading{color:#fff;transition:transform 0.35s, opacity 0.35s ease-in-out;transform:translate3d(0, 24px, 0)}.wp-block-uagb-image--layout-overlay__inner .uagb-image-separator{width:30%;border-top-width:2px;border-top-color:#fff;border-top-style:solid;margin-bottom:10px;opacity:0;transition:transform 0.4s, opacity 0.4s ease-in-out;transform:translate3d(0, 30px, 0)}.wp-block-uagb-image--layout-overlay__inner .uagb-image-caption{opacity:0;overflow:visible;color:#fff;transition:transform 0.45s, opacity 0.45s ease-in-out;transform:translate3d(0, 35px, 0)}.wp-block-uagb-image--layout-overlay__inner:hover .uagb-image-heading,.wp-block-uagb-image--layout-overlay__inner:hover .uagb-image-separator,.wp-block-uagb-image--layout-overlay__inner:hover .uagb-image-caption{opacity:1;transform:translate3d(0, 0, 0)}.wp-block-uagb-image--effect-zoomin .wp-block-uagb-image__figure{overflow:hidden}.wp-block-uagb-image--effect-zoomin .wp-block-uagb-image__figure img{transform:scale(1);transition:transform 0.35s ease-in-out}.wp-block-uagb-image--effect-zoomin .wp-block-uagb-image__figure:hover img{transform:scale(1.05)}.wp-block-uagb-image--effect-slide .wp-block-uagb-image__figure{overflow:hidden}.wp-block-uagb-image--effect-slide .wp-block-uagb-image__figure img{width:calc(100% + 40px) !important;max-width:none !important;transform:translate3d(-40px, 0, 0);transition:transform 0.35s ease-in-out}.wp-block-uagb-image--effect-slide .wp-block-uagb-image__figure:hover img{transform:translate3d(0, 0, 0)}.wp-block-uagb-image--effect-grayscale img{filter:grayscale(0%);transition:0.35s ease-in-out}.wp-block-uagb-image--effect-grayscale:hover img{filter:grayscale(100%)}.wp-block-uagb-image--effect-blur img{filter:blur(0);transition:0.35s ease-in-out}.wp-block-uagb-image--effect-blur:hover img{filter:blur(3px)}'"
   ]
  },
  {
   "cell_type": "code",
   "execution_count": null,
   "id": "f73e3981",
   "metadata": {},
   "outputs": [],
   "source": [
    "def match_extension(word):\n",
    "    if 'jpg' in word:\n",
    "        return 'jpg'\n",
    "    if 'png' in word:\n",
    "        return 'png'\n",
    "    if 'svg' in word:\n",
    "        return 'svg'\n",
    "    if 'mp4' in word:\n",
    "        return 'mp4'"
   ]
  },
  {
   "cell_type": "code",
   "execution_count": null,
   "id": "20759db1",
   "metadata": {},
   "outputs": [],
   "source": [
    "filedata_arr = filedata.split('/')"
   ]
  },
  {
   "cell_type": "code",
   "execution_count": null,
   "id": "701dd966",
   "metadata": {},
   "outputs": [],
   "source": [
    "for i in range(len(filedata_arr)):\n",
    "    if i == len(filedata_arr):\n",
    "        break\n",
    "    if filedata_arr[i] == 'wp-content':\n",
    "        flag = True\n",
    "        while flag:\n",
    "            if ('.svg' in filedata_arr[i]) or ('.jpg' in filedata_arr[i]) or ('.png' in filedata_arr[i]) or ('.mp4' in filedata_arr[i]):\n",
    "                extension = match_extension(filedata_arr[i])\n",
    "                filedata_arr.insert(i, extension)\n",
    "                flag = False\n",
    "            else:\n",
    "                del filedata_arr[i]\n",
    "    i += 2"
   ]
  },
  {
   "cell_type": "code",
   "execution_count": null,
   "id": "4ee97778",
   "metadata": {},
   "outputs": [],
   "source": [
    "('/').join(filedata_arr)"
   ]
  }
 ],
 "metadata": {
  "kernelspec": {
   "display_name": "Python 3 (ipykernel)",
   "language": "python",
   "name": "python3"
  },
  "language_info": {
   "codemirror_mode": {
    "name": "ipython",
    "version": 3
   },
   "file_extension": ".py",
   "mimetype": "text/x-python",
   "name": "python",
   "nbconvert_exporter": "python",
   "pygments_lexer": "ipython3",
   "version": "3.8.8"
  }
 },
 "nbformat": 4,
 "nbformat_minor": 5
}
